{
  "cells": [
    {
      "cell_type": "markdown",
      "metadata": {
        "id": "_Y8e_BeR8kE0"
      },
      "source": [
        "*ＷＷＬ採択高校の１・２年生を対象とした名古屋大学附属高等学校・教養教育院共催「高大接続探究セミナー」*\n",
        "\n",
        "# Python でフラクタルを描画しよう\n",
        "\n",
        "## Google Colabortory (Python)入門\n",
        "\n",
        "### 準備\n",
        "* この講義では Google Colaboratory (コラボと呼びます) を使います．\n",
        "* コラボの利用には Google アカウントが必要です．事前に取得しておいてください．\n",
        "* コラボはPCのブラウザから利用できます．自宅からでもOK！\n",
        "* ブラウザは何でも良いと思います．もし，うまくいかないようであれば [Google Chrome](https://www.google.co.jp/chrome/) をダウンロードしてご利用ください．\n",
        "\n",
        "### コラボノートブック（Colab Notebook）\n",
        "\n",
        "* ダウンロードしたファイルをご自身のコラボにアップロードしてください．\n",
        "* [コラボの使い方](https://sites.google.com/view/ipsjmooc/How2)\n"
      ]
    },
    {
      "cell_type": "code",
      "execution_count": null,
      "metadata": {
        "id": "7HGIUBy4XKk-"
      },
      "outputs": [],
      "source": []
    },
    {
      "cell_type": "markdown",
      "metadata": {
        "id": "_VVzS1QJ56sZ"
      },
      "source": [
        "# コラボの基本\n",
        "\n",
        "## コラボのコードセルを使ってみよう\n",
        "\n",
        "下にある [ ] から始まるセルがコードセルです．"
      ]
    },
    {
      "cell_type": "code",
      "execution_count": null,
      "metadata": {
        "id": "yn4Gd_IT6Nmi"
      },
      "outputs": [],
      "source": []
    },
    {
      "cell_type": "markdown",
      "metadata": {
        "id": "adA6wS6P7MeU"
      },
      "source": [
        "それでは，さっそくプログラムを入力してみましょう．\n",
        "まずは簡単な四則演算から試してみて下さい．\n",
        "たとえば， 3+3 実行してみます．\n",
        "\n",
        "実行させるには [ ] をクリックします．\n",
        "\n",
        "実行結果はコードセルの下に表示されます．"
      ]
    },
    {
      "cell_type": "code",
      "execution_count": null,
      "metadata": {
        "colab": {
          "base_uri": "https://localhost:8080/"
        },
        "id": "W_kPr9Gj7Klp",
        "outputId": "873a2737-50e4-4cfa-8de6-7efd55ab5594"
      },
      "outputs": [
        {
          "data": {
            "text/plain": [
              "6"
            ]
          },
          "execution_count": 1,
          "metadata": {},
          "output_type": "execute_result"
        }
      ],
      "source": [
        "3+3\n"
      ]
    },
    {
      "cell_type": "markdown",
      "metadata": {
        "id": "jDzwk7TcC4I6"
      },
      "source": [
        "Pythonの主な演算子を以下にまとめます．\n",
        "\n",
        "|演算子|説明|例|結果|\n",
        "|--|--|--|--|\n",
        "|```**```|累乗|2**3|8|\n",
        "|```*```|かけ算|3*5|15\n",
        "|```/```|割り算|10/3|3.33|\n",
        "|```//```|整数の割り算（小数点以下切り捨て）|10//3|3|\n",
        "|```%```|剰余（余り）|10%3|1|\n",
        "|```+```|足し算|1+2|3|\n",
        "|```-```|引き算|10-3|7|\n",
        "\n",
        "この表の上にある演算がその下より優先されます．\n",
        "また，括弧（）がある場合には括弧が優先されます．\n"
      ]
    },
    {
      "cell_type": "markdown",
      "metadata": {
        "id": "avbwr_Or8ElJ"
      },
      "source": [
        "もちろん，変数も使えます．\n",
        "\n",
        "なお，多くのプログラミング言語では「```=```」は代入という意味になります．\n",
        "\n",
        "数学の等号「=」は「```==```」ですのでご注意下さい．"
      ]
    },
    {
      "cell_type": "code",
      "execution_count": null,
      "metadata": {
        "colab": {
          "base_uri": "https://localhost:8080/"
        },
        "id": "KbQaQ0tZ7Ba-",
        "outputId": "113f618f-6710-409f-8106-4c758f6602ae"
      },
      "outputs": [
        {
          "name": "stdout",
          "output_type": "stream",
          "text": [
            "c= 6\n"
          ]
        }
      ],
      "source": [
        "a=2\n",
        "b=3\n",
        "c=a*b\n",
        "print(\"c=\", c)"
      ]
    },
    {
      "cell_type": "markdown",
      "metadata": {
        "id": "UoXpJ0EF_Uak"
      },
      "source": [
        "最後の ```print()``` はプリントコマンドでダブルコーテンションマーク「\"」あるいはシングルコーテーションマーク「'」で囲うことで文字列を出力できます．変数はその値を出力でき，上の例のように複数の値（文字列と変数）を出力する場合はコンマ「,」でつなぎます．"
      ]
    },
    {
      "cell_type": "markdown",
      "metadata": {
        "id": "FAv-SlnjeLfd"
      },
      "source": [
        "## 関数を定義してみよう\n",
        "\n",
        "　Pythonでは「```def　関数名（引数1, 引数2, ...）:```」という形で定義します．\n",
        "\n",
        "関数名にはなるべく分かりやすい英単語をハイフンで繋げて表記（スネークケース）することが多いです．良くあるのは，英単語の動詞と名詞をハイフンで繋げた名前です．\n",
        "\n",
        "また，引数とは，関数に渡す値を示す変数のことです．これも分かりやすい英単語が良いです．\n",
        "\n",
        "関数名の最後にコロン「　```:```」がありますので，お忘れ無く．\n",
        "\n",
        "このコロン「　```:```」の次の行から始まるプログラムが実際の関数を処理するプログラムになります．\n",
        "\n",
        "関数の結果は「　```return 値（もしくは式）```」 で返します．\n",
        "\n",
        "それは，先のかけ算を関数として定義してみましょう．"
      ]
    },
    {
      "cell_type": "code",
      "execution_count": null,
      "metadata": {
        "colab": {
          "base_uri": "https://localhost:8080/"
        },
        "id": "OFfsPhYIg9XX",
        "outputId": "cb97865f-9ea8-4ce3-b626-c24fc71fe465"
      },
      "outputs": [
        {
          "name": "stdout",
          "output_type": "stream",
          "text": [
            "multiply(2,3)= 6\n"
          ]
        }
      ],
      "source": [
        "def multiply(a, b):\n",
        "    c = a*b\n",
        "    return c\n",
        "# multiply(2,3)を表示\n",
        "print(\"multiply(2,3)=\", multiply(2,3))"
      ]
    },
    {
      "cell_type": "markdown",
      "metadata": {
        "id": "fZLQls0ghi-M"
      },
      "source": [
        "コロン「　```:```」 の下の行，つまり実際の処理プログラムはTABもしくはスペース4つ開けます． また，```return```には式も書くことができますので，変数cを使わず直接``` return a*b```としてもOKです．"
      ]
    },
    {
      "cell_type": "code",
      "execution_count": null,
      "metadata": {
        "colab": {
          "base_uri": "https://localhost:8080/"
        },
        "id": "UfyNZTImkTbN",
        "outputId": "9c3e3d0f-7ea2-4a74-8312-f83e918080a4"
      },
      "outputs": [
        {
          "name": "stdout",
          "output_type": "stream",
          "text": [
            "multiply(2,3)= 6\n"
          ]
        }
      ],
      "source": [
        "def multiply(a, b):\n",
        "    return a*b\n",
        "# multiply(2,3)を表示\n",
        "print(\"multiply(2,3)=\", multiply(2,3))"
      ]
    },
    {
      "cell_type": "markdown",
      "metadata": {
        "id": "f3iuxzX1kT95"
      },
      "source": [
        "「#」から始まる文はコメントで以降行末まで実行されません．\n",
        "コメントは処理の説明，変数の説明などのために用いられます．\n",
        "コメントを入れておくと，後から見直すときなどに便利ですので，適宜コメントを入れるようにすると良いです．\n",
        "\n",
        "\n",
        "---\n",
        "\n"
      ]
    },
    {
      "cell_type": "markdown",
      "metadata": {
        "id": "4mdAblnVVeBZ"
      },
      "source": [
        "## 試してみよう\n",
        "\n",
        "### ピタゴラスの定理\n",
        "\n",
        "直角三角形の斜辺の長さを求める関数（Pythagorean）を作ってみましょう．\n",
        "\n",
        "式で書くと以下のようになります．\n",
        "\n",
        "![スクリーンショット 2021-07-29 17.19.56.png](data:image/png;base64,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)\n",
        "\n",
        "ここでは引数を a, b として斜辺 c を求めます．"
      ]
    },
    {
      "cell_type": "code",
      "execution_count": null,
      "metadata": {
        "colab": {
          "base_uri": "https://localhost:8080/"
        },
        "id": "y1X_AIjCXIX4",
        "outputId": "5ae35f7d-8b94-4680-9a0c-6554f59ad2c9"
      },
      "outputs": [
        {
          "name": "stdout",
          "output_type": "stream",
          "text": [
            "Pythagorean(1, 1) = 1.4142135623730951\n"
          ]
        }
      ],
      "source": [
        "from math import sqrt\n",
        "def Pythagorean(a, b):\n",
        "    c = a**2 + b**2\n",
        "    return sqrt(c)\n",
        "\n",
        "print(\"Pythagorean(1, 1) =\", Pythagorean(1, 1))"
      ]
    },
    {
      "cell_type": "markdown",
      "metadata": {
        "id": "RVDOJkP2X6xf"
      },
      "source": [
        "初めの「from」から始まる行で[Python数学関数](https://docs.python.org/ja/3/library/math.html)をインポートしています．具体的には平方根を求める関数```sqrt```をインポートしています．\n",
        "\n",
        "数学関数の詳細は[こちら](https://docs.python.org/ja/3/library/math.html)をごらんください．\n",
        "\n",
        "\n",
        "\n",
        "### 余弦定理\n",
        "\n",
        "同様にして余弦定理を求める関数　cosine_formula は次のようになります．\n",
        "\n",
        "![320px-Triangle_with_notations_2.svg.png](data:image/png;base64,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)\n",
        "\n",
        "![スクリーンショット 2021-07-29 17.38.11.png](data:image/png;base64,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)"
      ]
    },
    {
      "cell_type": "code",
      "execution_count": null,
      "metadata": {
        "colab": {
          "base_uri": "https://localhost:8080/"
        },
        "id": "jh-h41YTatR_",
        "outputId": "165a9e76-09b5-4eb7-9c73-c6d59b7ba2d8"
      },
      "outputs": [
        {
          "name": "stdout",
          "output_type": "stream",
          "text": [
            "cosine_formula(1, 1, 90) = 1.414213562373095\n"
          ]
        }
      ],
      "source": [
        "from math import sqrt, cos, pi\n",
        "def cosine_formula(a, b, gamma):\n",
        "    gr = gamma*pi/180\n",
        "    c = a**2 + b**2 - 2*a*b*cos(gr)\n",
        "    return sqrt(c)\n",
        "\n",
        "print(\"cosine_formula(1, 1, 90) =\", cosine_formula(1, 1, 90))"
      ]
    },
    {
      "cell_type": "markdown",
      "metadata": {
        "id": "aYFk5sLN13gT"
      },
      "source": [
        "## for ループ\n",
        "\n",
        "ループとはくり返し実行させるプログラムのことで，代表的なコマンドに```for```と```while```があります．ここでは，```for```を使ったループを説明します．\n",
        "\n",
        "for 文によるくり返しは次のように書きます．\n",
        "```\n",
        "for 変数 in オブジェクト:\n",
        "    実行文\n",
        "```\n",
        "ここで，オブジェクトとは文字列・リスト・関数などになりますが，ここでは最もよく利用される```range()```関数について説明します．\n",
        "\n"
      ]
    },
    {
      "cell_type": "markdown",
      "metadata": {
        "id": "FCTy4U4WwMJ_"
      },
      "source": [
        "ここで，数学関数での sin(x), cos(x), tan(x) の引数xはラジアンです．従って，cosine-formula(a, b, gamma)の1行目で角度をラジアンに変換していることに注意してください．\n",
        "\n",
        "\n",
        "---\n",
        "\n"
      ]
    },
    {
      "cell_type": "markdown",
      "metadata": {
        "id": "Q4r1tRu82yZe"
      },
      "source": [
        "### range(start, stop[, step])\n",
        "\n",
        "range()は整数列のリストを返す関数です．\n",
        "引数は３つあり，それぞれ最初の数字（start），最後の数字（stop），そして刻み幅（step）です．\n",
        "\n",
        "stepは省略でき，省略した場合の刻み幅は 1 です．\n",
        "\n",
        "また，start も省略でき，省略した場合は 0 となります．\n",
        "\n",
        "具体的には次のようになります．\n",
        "```\n",
        "range(0,4,1)\n",
        "> 0, 1, 2, 3\n",
        "range(4)\n",
        "> 0, 1, 2, 3\n",
        "range(0,4,2)\n",
        "> 0, 2\n",
        "range(4,0,-1)\n",
        "> 3, 2, 1, 0\n",
        "```\n",
        "\n",
        "\n"
      ]
    },
    {
      "cell_type": "markdown",
      "metadata": {
        "id": "wOa2kH844lsQ"
      },
      "source": [
        "実際に実行させて確認してみてください．\n",
        "\n",
        "#### range(0,4,1)"
      ]
    },
    {
      "cell_type": "code",
      "execution_count": null,
      "metadata": {
        "colab": {
          "base_uri": "https://localhost:8080/"
        },
        "id": "c7B7NwDp39Hj",
        "outputId": "bf0d9239-1a9d-456b-dc7f-bba4f5cfe8b0"
      },
      "outputs": [
        {
          "name": "stdout",
          "output_type": "stream",
          "text": [
            "0\n",
            "1\n",
            "2\n",
            "3\n"
          ]
        }
      ],
      "source": [
        "for i in range(0,4,1):\n",
        "    print(i)\n"
      ]
    },
    {
      "cell_type": "markdown",
      "metadata": {
        "id": "2ln4Tubl7vg2"
      },
      "source": [
        "0 〜 3 までステップ１で表示されてますね．"
      ]
    },
    {
      "cell_type": "markdown",
      "metadata": {
        "id": "F992QleH4ong"
      },
      "source": [
        "\n",
        "#### range(4)\n",
        "次に start と step を省略した例です．"
      ]
    },
    {
      "cell_type": "code",
      "execution_count": null,
      "metadata": {
        "colab": {
          "base_uri": "https://localhost:8080/"
        },
        "id": "gwXZSLUc5bDb",
        "outputId": "ba126f73-3943-4783-bd22-59f3249c5c6b"
      },
      "outputs": [
        {
          "name": "stdout",
          "output_type": "stream",
          "text": [
            "0\n",
            "1\n",
            "2\n",
            "3\n"
          ]
        }
      ],
      "source": [
        "for i in range(4):\n",
        "    print(i)"
      ]
    },
    {
      "cell_type": "markdown",
      "metadata": {
        "id": "w-qcm1R_70ov"
      },
      "source": [
        "range(0,4,1)と同じ結果になります．"
      ]
    },
    {
      "cell_type": "markdown",
      "metadata": {
        "id": "nC5MW4y95oO-"
      },
      "source": [
        "#### range(0,4,2)\n",
        "今度はステップを２にした例です．"
      ]
    },
    {
      "cell_type": "code",
      "execution_count": null,
      "metadata": {
        "colab": {
          "base_uri": "https://localhost:8080/"
        },
        "id": "f7YsX9sR5l9r",
        "outputId": "cd4afd06-ab34-4b12-e16a-ade06176bc1f"
      },
      "outputs": [
        {
          "name": "stdout",
          "output_type": "stream",
          "text": [
            "0\n",
            "2\n"
          ]
        }
      ],
      "source": [
        "for i in range(0,4,2):\n",
        "    print(i)"
      ]
    },
    {
      "cell_type": "markdown",
      "metadata": {
        "id": "_7Q7G75e52Su"
      },
      "source": [
        "#### range(4,0,-1)\n",
        "最後に逆順で表示してみましょう．"
      ]
    },
    {
      "cell_type": "code",
      "execution_count": null,
      "metadata": {
        "colab": {
          "base_uri": "https://localhost:8080/"
        },
        "id": "YDddMxLQ50cu",
        "outputId": "fc82c4fe-2017-4737-8b45-2685322b72d2"
      },
      "outputs": [
        {
          "name": "stdout",
          "output_type": "stream",
          "text": [
            "4\n",
            "3\n",
            "2\n",
            "1\n"
          ]
        }
      ],
      "source": [
        "for i in range(4,0,-1):\n",
        "    print(i)"
      ]
    },
    {
      "cell_type": "markdown",
      "metadata": {
        "id": "fs8oQPrgxWyV"
      },
      "source": [
        "\n",
        "\n",
        "---\n",
        "\n",
        "\n",
        "# タートルグラフィックス\n",
        "\n",
        "タートルグラフィックスは，シーモア・パパートによって開発された，子供用の[プログラミングシステム（LOGO）](https://ja.wikipedia.org/wiki/LOGO)の代表的な機能で，亀が動きながら描くことを特徴としています．\n",
        "\n",
        "亀が\n",
        "- 前進 ： forward(距離：ピクセル)\n",
        "- 回転 ： right(角度)，left(角度)\n",
        "- ペンの上げ下げ ： penup(), pendown()\n",
        "\n",
        "をすることで絵を描きます．\n",
        "\n",
        "なお、距離や座標の単位はピクセルです。"
      ]
    },
    {
      "cell_type": "markdown",
      "metadata": {
        "id": "rAwKU-mAqSHS"
      },
      "source": [
        "## タートルグラフィックスの主な関数\n",
        "\n",
        "|関数|説明|\n",
        "|--|--|\n",
        "|forward(units)|亀を units（ピクセル）前進|\n",
        "|backward(units)|亀を units（ピクセル）後進|\n",
        "|right(degrees)\t|亀を degrees 度 右に向ける（回転）|\n",
        "|left(degrees)\t|亀を degrees 度 左に向ける（回転）|\n",
        "|speed(s)|亀をスピード s で動かす．1が最も遅く，13が最も早い．初期値４|\n",
        "|penup()|ペンを上げる（以後，描画しない）|\n",
        "|pendown()|ペンを下げる（以後，描画をはじめる）|\n",
        "|goto(x,y)|\t座標 (x, y) へ亀を移動|\n",
        "|bgcolor()|背景の[色](https://www.w3schools.com/colors/colors_names.asp)を指定|\n",
        "|color()|ペンの[色](https://www.w3schools.com/colors/colors_names.asp)を指定|\n",
        "|pensize(w)|ペンの大きさ w を指定|\n",
        "\n",
        "詳細は[こちら](https://github.com/tolgaatam/ColabTurtle)をごらんください．"
      ]
    },
    {
      "cell_type": "markdown",
      "metadata": {
        "id": "UQfowl2utR-D"
      },
      "source": [
        "## タートルグラフィックスの初期値\n",
        "\n",
        "\n",
        "### 描画サイズ\n",
        "\n",
        "描画領域は以下のように設定されています．\n",
        "- 画面サイズ：800 x 500\n",
        "  - 左上の座標が(0,0)\n",
        "  - 右下が(800,500)\n",
        "  - 中央が(400,250)になります．\n",
        "- 背景の色：bgcolor(\"black\")\n",
        "\n",
        "![スクリーンショット 2021-07-31 13.06.02.png](data:image/png;base64,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)\n",
        "\n",
        "\n",
        "### 亀の初期値\n",
        "- 亀の位置：画面の中央（400,250）\n",
        "- 亀の向き：上\n",
        "- 亀の動く速さ：speed = 4\n",
        "\n",
        "### ペンのサイズと色\n",
        "- ペンのサイズ：width(4)\n",
        "- ペンの色：color(\"white\")\n",
        "\n"
      ]
    },
    {
      "cell_type": "markdown",
      "metadata": {
        "id": "XCnBrGuQsjnR"
      },
      "source": [
        "## タートルグラフィックスのインストール\n",
        "\n",
        "まず，以下のコマンドを実行してタートルグラフィックスをインストールしてください．\n",
        "\n",
        "タートルグラフィックスを利用するために必要ですが，最初に一度だけインストールすれば以後はインポートの必要はありません．\n"
      ]
    },
    {
      "cell_type": "code",
      "execution_count": null,
      "metadata": {
        "colab": {
          "base_uri": "https://localhost:8080/"
        },
        "id": "7onysNP-Usdt",
        "outputId": "d5dfaeff-2ed0-4aeb-9317-25103eb9eadb"
      },
      "outputs": [
        {
          "name": "stdout",
          "output_type": "stream",
          "text": [
            "Collecting ColabTurtle\n",
            "  Downloading ColabTurtle-2.1.0.tar.gz (6.8 kB)\n",
            "  Preparing metadata (setup.py) ... \u001b[?25l\u001b[?25hdone\n",
            "Building wheels for collected packages: ColabTurtle\n",
            "  Building wheel for ColabTurtle (setup.py) ... \u001b[?25l\u001b[?25hdone\n",
            "  Created wheel for ColabTurtle: filename=ColabTurtle-2.1.0-py3-none-any.whl size=7641 sha256=fe5682c596649fdf7fffeb1a52ca7a11c3730a529838131950cfdc2f981fcd0a\n",
            "  Stored in directory: /root/.cache/pip/wheels/5b/86/e8/54f5c8c853606e3a3060bb2e60363cbed632374a12e0f33ffc\n",
            "Successfully built ColabTurtle\n",
            "Installing collected packages: ColabTurtle\n",
            "Successfully installed ColabTurtle-2.1.0\n"
          ]
        }
      ],
      "source": [
        "!pip3 install ColabTurtle\n"
      ]
    },
    {
      "cell_type": "markdown",
      "metadata": {
        "id": "J5DYaiJFyJTv"
      },
      "source": [
        "　今回利用する ColabTurtle の詳細が知りたい方は，英語になりますが[こちら](https://github.com/tolgaatam/ColabTurtle)にあります．"
      ]
    },
    {
      "cell_type": "markdown",
      "metadata": {
        "id": "G76Gl0zX1wXt"
      },
      "source": [
        "## タートルグラフィックスの初期化\n",
        "\n",
        "タートルグラフィックスを利用するためには，最初にタートルグラフィックスの関数を読み込む必要があります．\n",
        "```\n",
        "from ColabTurtle.Turtle import *\n",
        "```\n",
        "続いて，亀さんを初期化します．\n",
        "```\n",
        "initializeTurtle()\n",
        "```\n",
        "\n",
        "以上は必ずプログラムの冒頭に書くようにしてください．"
      ]
    },
    {
      "cell_type": "code",
      "execution_count": null,
      "metadata": {
        "colab": {
          "base_uri": "https://localhost:8080/",
          "height": 520
        },
        "id": "mjkf4Yq-1z9E",
        "outputId": "669518ad-c99f-4a79-96ce-2d7b222bf3a8"
      },
      "outputs": [
        {
          "data": {
            "text/html": [
              "\n",
              "      <svg width=\"800\" height=\"500\">\n",
              "        <rect width=\"100%\" height=\"100%\" fill=\"black\"/>\n",
              "        \n",
              "        <g visibility=visible transform=\"rotate(360,400,250) translate(382, 232)\">\n",
              "<path style=\" stroke:none;fill-rule:evenodd;fill:white;fill-opacity:1;\" d=\"M 18.214844 0.632812 C 16.109375 1.800781 15.011719 4.074219 15.074219 7.132812 L 15.085938 7.652344 L 14.785156 7.496094 C 13.476562 6.824219 11.957031 6.671875 10.40625 7.066406 C 8.46875 7.550781 6.515625 9.15625 4.394531 11.992188 C 3.0625 13.777344 2.679688 14.636719 3.042969 15.027344 L 3.15625 15.152344 L 3.519531 15.152344 C 4.238281 15.152344 4.828125 14.886719 8.1875 13.039062 C 9.386719 12.378906 10.371094 11.839844 10.378906 11.839844 C 10.386719 11.839844 10.355469 11.929688 10.304688 12.035156 C 9.832031 13.09375 9.257812 14.820312 8.96875 16.078125 C 7.914062 20.652344 8.617188 24.53125 11.070312 27.660156 C 11.351562 28.015625 11.363281 27.914062 10.972656 28.382812 C 8.925781 30.84375 7.945312 33.28125 8.238281 35.1875 C 8.289062 35.527344 8.28125 35.523438 8.917969 35.523438 C 10.941406 35.523438 13.074219 34.207031 15.136719 31.6875 C 15.359375 31.417969 15.328125 31.425781 15.5625 31.574219 C 16.292969 32.042969 18.023438 32.964844 18.175781 32.964844 C 18.335938 32.964844 19.941406 32.210938 20.828125 31.71875 C 20.996094 31.625 21.136719 31.554688 21.136719 31.558594 C 21.203125 31.664062 21.898438 32.414062 22.222656 32.730469 C 23.835938 34.300781 25.5625 35.132812 27.582031 35.300781 C 27.90625 35.328125 27.9375 35.308594 28.007812 34.984375 C 28.382812 33.242188 27.625 30.925781 25.863281 28.425781 L 25.542969 27.96875 L 25.699219 27.785156 C 28.945312 23.960938 29.132812 18.699219 26.257812 11.96875 L 26.207031 11.84375 L 27.945312 12.703125 C 31.53125 14.476562 32.316406 14.800781 33.03125 14.800781 C 33.976562 14.800781 33.78125 13.9375 32.472656 12.292969 C 28.519531 7.355469 25.394531 5.925781 21.921875 7.472656 L 21.558594 7.636719 L 21.578125 7.542969 C 21.699219 6.992188 21.761719 5.742188 21.699219 5.164062 C 21.496094 3.296875 20.664062 1.964844 19.003906 0.855469 C 18.480469 0.503906 18.457031 0.5 18.214844 0.632812\"/>\n",
              "</g>\n",
              "      </svg>\n",
              "    "
            ],
            "text/plain": [
              "<IPython.core.display.HTML object>"
            ]
          },
          "metadata": {},
          "output_type": "display_data"
        }
      ],
      "source": [
        "from ColabTurtle.Turtle import *\n",
        "initializeTurtle()"
      ]
    },
    {
      "cell_type": "markdown",
      "metadata": {
        "id": "G6Vs09IQUZIy"
      },
      "source": [
        "# Turtle Graphics でアルファベットを描こう\n",
        "\n",
        "## 亀さんを動かしてみよう\n",
        "それでは、亀さんを動かしてみましょう。\n",
        "\n",
        "## 上へ移動（forward）\n",
        "\n",
        "亀さんは上を向いていますね。\n",
        "\n",
        "と言うことは、そのまま動かすと「上」へ動く、つまり上へ線を描きます。\n",
        "\n",
        "亀さんを前進させるコマンドは「forward(units)」です。ここで、unitsは移動する長さ（ピクセル）です。\n",
        "\n",
        "たとえば forward(100) と入力すると亀さんが上に 100 ピクセル移動し、長さ100ピクセルの線を描きます。"
      ]
    },
    {
      "cell_type": "code",
      "execution_count": null,
      "metadata": {
        "colab": {
          "base_uri": "https://localhost:8080/",
          "height": 520
        },
        "id": "EBbcTTm7WJaQ",
        "outputId": "ffb37a99-3f0c-4810-92a5-3f28e77e9693"
      },
      "outputs": [
        {
          "data": {
            "text/html": [
              "\n",
              "      <svg width=\"800\" height=\"500\">\n",
              "        <rect width=\"100%\" height=\"100%\" fill=\"black\"/>\n",
              "        <line x1=\"400\" y1=\"250\" x2=\"400.0\" y2=\"150.0\" stroke-linecap=\"round\" style=\"stroke:white;stroke-width:4\"/>\n",
              "        <g visibility=visible transform=\"rotate(360,400.0,150.0) translate(382.0, 132.0)\">\n",
              "<path style=\" stroke:none;fill-rule:evenodd;fill:white;fill-opacity:1;\" d=\"M 18.214844 0.632812 C 16.109375 1.800781 15.011719 4.074219 15.074219 7.132812 L 15.085938 7.652344 L 14.785156 7.496094 C 13.476562 6.824219 11.957031 6.671875 10.40625 7.066406 C 8.46875 7.550781 6.515625 9.15625 4.394531 11.992188 C 3.0625 13.777344 2.679688 14.636719 3.042969 15.027344 L 3.15625 15.152344 L 3.519531 15.152344 C 4.238281 15.152344 4.828125 14.886719 8.1875 13.039062 C 9.386719 12.378906 10.371094 11.839844 10.378906 11.839844 C 10.386719 11.839844 10.355469 11.929688 10.304688 12.035156 C 9.832031 13.09375 9.257812 14.820312 8.96875 16.078125 C 7.914062 20.652344 8.617188 24.53125 11.070312 27.660156 C 11.351562 28.015625 11.363281 27.914062 10.972656 28.382812 C 8.925781 30.84375 7.945312 33.28125 8.238281 35.1875 C 8.289062 35.527344 8.28125 35.523438 8.917969 35.523438 C 10.941406 35.523438 13.074219 34.207031 15.136719 31.6875 C 15.359375 31.417969 15.328125 31.425781 15.5625 31.574219 C 16.292969 32.042969 18.023438 32.964844 18.175781 32.964844 C 18.335938 32.964844 19.941406 32.210938 20.828125 31.71875 C 20.996094 31.625 21.136719 31.554688 21.136719 31.558594 C 21.203125 31.664062 21.898438 32.414062 22.222656 32.730469 C 23.835938 34.300781 25.5625 35.132812 27.582031 35.300781 C 27.90625 35.328125 27.9375 35.308594 28.007812 34.984375 C 28.382812 33.242188 27.625 30.925781 25.863281 28.425781 L 25.542969 27.96875 L 25.699219 27.785156 C 28.945312 23.960938 29.132812 18.699219 26.257812 11.96875 L 26.207031 11.84375 L 27.945312 12.703125 C 31.53125 14.476562 32.316406 14.800781 33.03125 14.800781 C 33.976562 14.800781 33.78125 13.9375 32.472656 12.292969 C 28.519531 7.355469 25.394531 5.925781 21.921875 7.472656 L 21.558594 7.636719 L 21.578125 7.542969 C 21.699219 6.992188 21.761719 5.742188 21.699219 5.164062 C 21.496094 3.296875 20.664062 1.964844 19.003906 0.855469 C 18.480469 0.503906 18.457031 0.5 18.214844 0.632812\"/>\n",
              "</g>\n",
              "      </svg>\n",
              "    "
            ],
            "text/plain": [
              "<IPython.core.display.HTML object>"
            ]
          },
          "metadata": {},
          "output_type": "display_data"
        }
      ],
      "source": [
        "from ColabTurtle.Turtle import *\n",
        "initializeTurtle()\n",
        "# 上に 100 ピクセル移動\n",
        "forward(100)"
      ]
    },
    {
      "cell_type": "markdown",
      "metadata": {
        "id": "8-kL0XePXfhw"
      },
      "source": [
        "亀さんの位置（座標）がどこだか分かりますか？\n",
        "\n",
        "そうです、亀さんは上に100ピクセル動いたので(400,150)の場所にいます。\n",
        "\n",
        "## 右に向きを変えて移動\n",
        "\n",
        "続いて亀さんを右に動かしてみましょう。\n",
        "\n",
        "亀さんを右に動かすには、まず、亀さんの向きを右に変えなければなりません。\n",
        "\n",
        "このためのコマンドは right(90) です。ここで括弧の中身は角度を表します。なので right(90) は右に 90度　回転させる、という意味になります。"
      ]
    },
    {
      "cell_type": "code",
      "execution_count": null,
      "metadata": {
        "colab": {
          "base_uri": "https://localhost:8080/",
          "height": 520
        },
        "id": "01MRv8uoVFns",
        "outputId": "20dcc305-5144-4888-8a92-640ee447b90c"
      },
      "outputs": [
        {
          "data": {
            "text/html": [
              "\n",
              "      <svg width=\"800\" height=\"500\">\n",
              "        <rect width=\"100%\" height=\"100%\" fill=\"black\"/>\n",
              "        <line x1=\"400\" y1=\"250\" x2=\"400.0\" y2=\"150.0\" stroke-linecap=\"round\" style=\"stroke:white;stroke-width:4\"/>\n",
              "        <g visibility=visible transform=\"rotate(90,400.0,150.0) translate(382.0, 132.0)\">\n",
              "<path style=\" stroke:none;fill-rule:evenodd;fill:white;fill-opacity:1;\" d=\"M 18.214844 0.632812 C 16.109375 1.800781 15.011719 4.074219 15.074219 7.132812 L 15.085938 7.652344 L 14.785156 7.496094 C 13.476562 6.824219 11.957031 6.671875 10.40625 7.066406 C 8.46875 7.550781 6.515625 9.15625 4.394531 11.992188 C 3.0625 13.777344 2.679688 14.636719 3.042969 15.027344 L 3.15625 15.152344 L 3.519531 15.152344 C 4.238281 15.152344 4.828125 14.886719 8.1875 13.039062 C 9.386719 12.378906 10.371094 11.839844 10.378906 11.839844 C 10.386719 11.839844 10.355469 11.929688 10.304688 12.035156 C 9.832031 13.09375 9.257812 14.820312 8.96875 16.078125 C 7.914062 20.652344 8.617188 24.53125 11.070312 27.660156 C 11.351562 28.015625 11.363281 27.914062 10.972656 28.382812 C 8.925781 30.84375 7.945312 33.28125 8.238281 35.1875 C 8.289062 35.527344 8.28125 35.523438 8.917969 35.523438 C 10.941406 35.523438 13.074219 34.207031 15.136719 31.6875 C 15.359375 31.417969 15.328125 31.425781 15.5625 31.574219 C 16.292969 32.042969 18.023438 32.964844 18.175781 32.964844 C 18.335938 32.964844 19.941406 32.210938 20.828125 31.71875 C 20.996094 31.625 21.136719 31.554688 21.136719 31.558594 C 21.203125 31.664062 21.898438 32.414062 22.222656 32.730469 C 23.835938 34.300781 25.5625 35.132812 27.582031 35.300781 C 27.90625 35.328125 27.9375 35.308594 28.007812 34.984375 C 28.382812 33.242188 27.625 30.925781 25.863281 28.425781 L 25.542969 27.96875 L 25.699219 27.785156 C 28.945312 23.960938 29.132812 18.699219 26.257812 11.96875 L 26.207031 11.84375 L 27.945312 12.703125 C 31.53125 14.476562 32.316406 14.800781 33.03125 14.800781 C 33.976562 14.800781 33.78125 13.9375 32.472656 12.292969 C 28.519531 7.355469 25.394531 5.925781 21.921875 7.472656 L 21.558594 7.636719 L 21.578125 7.542969 C 21.699219 6.992188 21.761719 5.742188 21.699219 5.164062 C 21.496094 3.296875 20.664062 1.964844 19.003906 0.855469 C 18.480469 0.503906 18.457031 0.5 18.214844 0.632812\"/>\n",
              "</g>\n",
              "      </svg>\n",
              "    "
            ],
            "text/plain": [
              "<IPython.core.display.HTML object>"
            ]
          },
          "metadata": {},
          "output_type": "display_data"
        }
      ],
      "source": [
        "from ColabTurtle.Turtle import *\n",
        "initializeTurtle()\n",
        "# 上に 100 ピクセル移動\n",
        "forward(100)\n",
        "# 右に 90度 回転\n",
        "right(90)"
      ]
    },
    {
      "cell_type": "markdown",
      "metadata": {
        "id": "nDi7BmOSZNmd"
      },
      "source": [
        "亀さんは右を向きましたね。この状態で 100 ピクセル移動させると..."
      ]
    },
    {
      "cell_type": "code",
      "execution_count": null,
      "metadata": {
        "colab": {
          "base_uri": "https://localhost:8080/",
          "height": 520
        },
        "id": "nsiefC2vZaab",
        "outputId": "dbeb040e-094d-41dc-cd61-e35e8b6204bf"
      },
      "outputs": [
        {
          "data": {
            "text/html": [
              "\n",
              "      <svg width=\"800\" height=\"500\">\n",
              "        <rect width=\"100%\" height=\"100%\" fill=\"black\"/>\n",
              "        <line x1=\"400\" y1=\"250\" x2=\"400.0\" y2=\"150.0\" stroke-linecap=\"round\" style=\"stroke:white;stroke-width:4\"/><line x1=\"400.0\" y1=\"150.0\" x2=\"500.0\" y2=\"150.0\" stroke-linecap=\"round\" style=\"stroke:white;stroke-width:4\"/>\n",
              "        <g visibility=visible transform=\"rotate(90,500.0,150.0) translate(482.0, 132.0)\">\n",
              "<path style=\" stroke:none;fill-rule:evenodd;fill:white;fill-opacity:1;\" d=\"M 18.214844 0.632812 C 16.109375 1.800781 15.011719 4.074219 15.074219 7.132812 L 15.085938 7.652344 L 14.785156 7.496094 C 13.476562 6.824219 11.957031 6.671875 10.40625 7.066406 C 8.46875 7.550781 6.515625 9.15625 4.394531 11.992188 C 3.0625 13.777344 2.679688 14.636719 3.042969 15.027344 L 3.15625 15.152344 L 3.519531 15.152344 C 4.238281 15.152344 4.828125 14.886719 8.1875 13.039062 C 9.386719 12.378906 10.371094 11.839844 10.378906 11.839844 C 10.386719 11.839844 10.355469 11.929688 10.304688 12.035156 C 9.832031 13.09375 9.257812 14.820312 8.96875 16.078125 C 7.914062 20.652344 8.617188 24.53125 11.070312 27.660156 C 11.351562 28.015625 11.363281 27.914062 10.972656 28.382812 C 8.925781 30.84375 7.945312 33.28125 8.238281 35.1875 C 8.289062 35.527344 8.28125 35.523438 8.917969 35.523438 C 10.941406 35.523438 13.074219 34.207031 15.136719 31.6875 C 15.359375 31.417969 15.328125 31.425781 15.5625 31.574219 C 16.292969 32.042969 18.023438 32.964844 18.175781 32.964844 C 18.335938 32.964844 19.941406 32.210938 20.828125 31.71875 C 20.996094 31.625 21.136719 31.554688 21.136719 31.558594 C 21.203125 31.664062 21.898438 32.414062 22.222656 32.730469 C 23.835938 34.300781 25.5625 35.132812 27.582031 35.300781 C 27.90625 35.328125 27.9375 35.308594 28.007812 34.984375 C 28.382812 33.242188 27.625 30.925781 25.863281 28.425781 L 25.542969 27.96875 L 25.699219 27.785156 C 28.945312 23.960938 29.132812 18.699219 26.257812 11.96875 L 26.207031 11.84375 L 27.945312 12.703125 C 31.53125 14.476562 32.316406 14.800781 33.03125 14.800781 C 33.976562 14.800781 33.78125 13.9375 32.472656 12.292969 C 28.519531 7.355469 25.394531 5.925781 21.921875 7.472656 L 21.558594 7.636719 L 21.578125 7.542969 C 21.699219 6.992188 21.761719 5.742188 21.699219 5.164062 C 21.496094 3.296875 20.664062 1.964844 19.003906 0.855469 C 18.480469 0.503906 18.457031 0.5 18.214844 0.632812\"/>\n",
              "</g>\n",
              "      </svg>\n",
              "    "
            ],
            "text/plain": [
              "<IPython.core.display.HTML object>"
            ]
          },
          "metadata": {},
          "output_type": "display_data"
        }
      ],
      "source": [
        "from ColabTurtle.Turtle import *\n",
        "initializeTurtle()\n",
        "# 上に 100 ピクセル移動\n",
        "forward(100)\n",
        "# 右に 90度 回転\n",
        "right(90)\n",
        "# 100 ピクセル移動\n",
        "forward(100)"
      ]
    },
    {
      "cell_type": "markdown",
      "metadata": {
        "id": "ZLquA5nJUhok"
      },
      "source": [
        "今度は亀さんを左に向けて、200 ピクセル移動させてみましょう。\n",
        "\n",
        "左に向けるのは 180度回転すれば良いので、right(180) あるいは left(180) コマンドでできます。"
      ]
    },
    {
      "cell_type": "code",
      "execution_count": null,
      "metadata": {
        "colab": {
          "base_uri": "https://localhost:8080/",
          "height": 520
        },
        "id": "vxqgzRU1Z_SK",
        "outputId": "6ddeb539-e26b-44d5-c28e-a0755eb6c88e"
      },
      "outputs": [
        {
          "data": {
            "text/html": [
              "\n",
              "      <svg width=\"800\" height=\"500\">\n",
              "        <rect width=\"100%\" height=\"100%\" fill=\"black\"/>\n",
              "        <line x1=\"400\" y1=\"250\" x2=\"400.0\" y2=\"150.0\" stroke-linecap=\"round\" style=\"stroke:white;stroke-width:4\"/><line x1=\"400.0\" y1=\"150.0\" x2=\"500.0\" y2=\"150.0\" stroke-linecap=\"round\" style=\"stroke:white;stroke-width:4\"/>\n",
              "        <g visibility=visible transform=\"rotate(270,500.0,150.0) translate(482.0, 132.0)\">\n",
              "<path style=\" stroke:none;fill-rule:evenodd;fill:white;fill-opacity:1;\" d=\"M 18.214844 0.632812 C 16.109375 1.800781 15.011719 4.074219 15.074219 7.132812 L 15.085938 7.652344 L 14.785156 7.496094 C 13.476562 6.824219 11.957031 6.671875 10.40625 7.066406 C 8.46875 7.550781 6.515625 9.15625 4.394531 11.992188 C 3.0625 13.777344 2.679688 14.636719 3.042969 15.027344 L 3.15625 15.152344 L 3.519531 15.152344 C 4.238281 15.152344 4.828125 14.886719 8.1875 13.039062 C 9.386719 12.378906 10.371094 11.839844 10.378906 11.839844 C 10.386719 11.839844 10.355469 11.929688 10.304688 12.035156 C 9.832031 13.09375 9.257812 14.820312 8.96875 16.078125 C 7.914062 20.652344 8.617188 24.53125 11.070312 27.660156 C 11.351562 28.015625 11.363281 27.914062 10.972656 28.382812 C 8.925781 30.84375 7.945312 33.28125 8.238281 35.1875 C 8.289062 35.527344 8.28125 35.523438 8.917969 35.523438 C 10.941406 35.523438 13.074219 34.207031 15.136719 31.6875 C 15.359375 31.417969 15.328125 31.425781 15.5625 31.574219 C 16.292969 32.042969 18.023438 32.964844 18.175781 32.964844 C 18.335938 32.964844 19.941406 32.210938 20.828125 31.71875 C 20.996094 31.625 21.136719 31.554688 21.136719 31.558594 C 21.203125 31.664062 21.898438 32.414062 22.222656 32.730469 C 23.835938 34.300781 25.5625 35.132812 27.582031 35.300781 C 27.90625 35.328125 27.9375 35.308594 28.007812 34.984375 C 28.382812 33.242188 27.625 30.925781 25.863281 28.425781 L 25.542969 27.96875 L 25.699219 27.785156 C 28.945312 23.960938 29.132812 18.699219 26.257812 11.96875 L 26.207031 11.84375 L 27.945312 12.703125 C 31.53125 14.476562 32.316406 14.800781 33.03125 14.800781 C 33.976562 14.800781 33.78125 13.9375 32.472656 12.292969 C 28.519531 7.355469 25.394531 5.925781 21.921875 7.472656 L 21.558594 7.636719 L 21.578125 7.542969 C 21.699219 6.992188 21.761719 5.742188 21.699219 5.164062 C 21.496094 3.296875 20.664062 1.964844 19.003906 0.855469 C 18.480469 0.503906 18.457031 0.5 18.214844 0.632812\"/>\n",
              "</g>\n",
              "      </svg>\n",
              "    "
            ],
            "text/plain": [
              "<IPython.core.display.HTML object>"
            ]
          },
          "metadata": {},
          "output_type": "display_data"
        }
      ],
      "source": [
        "from ColabTurtle.Turtle import *\n",
        "initializeTurtle()\n",
        "# 上に 100 ピクセル移動\n",
        "forward(100)\n",
        "# 右に 90度 回転\n",
        "right(90)\n",
        "# 100 ピクセル移動\n",
        "forward(100)\n",
        "# 左に 180度 回転\n",
        "left(180)"
      ]
    },
    {
      "cell_type": "markdown",
      "metadata": {
        "id": "rLQ_dUoSahfP"
      },
      "source": [
        "左向きに 200 ピクセル移動させてみましょう。"
      ]
    },
    {
      "cell_type": "code",
      "execution_count": null,
      "metadata": {
        "colab": {
          "base_uri": "https://localhost:8080/",
          "height": 520
        },
        "id": "tRp15WZeap2G",
        "outputId": "704bba26-216c-4a23-f2e0-349e271b2298"
      },
      "outputs": [
        {
          "data": {
            "text/html": [
              "\n",
              "      <svg width=\"800\" height=\"500\">\n",
              "        <rect width=\"100%\" height=\"100%\" fill=\"black\"/>\n",
              "        <line x1=\"400\" y1=\"250\" x2=\"400.0\" y2=\"150.0\" stroke-linecap=\"round\" style=\"stroke:white;stroke-width:4\"/><line x1=\"400.0\" y1=\"150.0\" x2=\"500.0\" y2=\"150.0\" stroke-linecap=\"round\" style=\"stroke:white;stroke-width:4\"/><line x1=\"500.0\" y1=\"150.0\" x2=\"300.0\" y2=\"150.0\" stroke-linecap=\"round\" style=\"stroke:white;stroke-width:4\"/>\n",
              "        <g visibility=visible transform=\"rotate(270,300.0,150.0) translate(282.0, 132.0)\">\n",
              "<path style=\" stroke:none;fill-rule:evenodd;fill:white;fill-opacity:1;\" d=\"M 18.214844 0.632812 C 16.109375 1.800781 15.011719 4.074219 15.074219 7.132812 L 15.085938 7.652344 L 14.785156 7.496094 C 13.476562 6.824219 11.957031 6.671875 10.40625 7.066406 C 8.46875 7.550781 6.515625 9.15625 4.394531 11.992188 C 3.0625 13.777344 2.679688 14.636719 3.042969 15.027344 L 3.15625 15.152344 L 3.519531 15.152344 C 4.238281 15.152344 4.828125 14.886719 8.1875 13.039062 C 9.386719 12.378906 10.371094 11.839844 10.378906 11.839844 C 10.386719 11.839844 10.355469 11.929688 10.304688 12.035156 C 9.832031 13.09375 9.257812 14.820312 8.96875 16.078125 C 7.914062 20.652344 8.617188 24.53125 11.070312 27.660156 C 11.351562 28.015625 11.363281 27.914062 10.972656 28.382812 C 8.925781 30.84375 7.945312 33.28125 8.238281 35.1875 C 8.289062 35.527344 8.28125 35.523438 8.917969 35.523438 C 10.941406 35.523438 13.074219 34.207031 15.136719 31.6875 C 15.359375 31.417969 15.328125 31.425781 15.5625 31.574219 C 16.292969 32.042969 18.023438 32.964844 18.175781 32.964844 C 18.335938 32.964844 19.941406 32.210938 20.828125 31.71875 C 20.996094 31.625 21.136719 31.554688 21.136719 31.558594 C 21.203125 31.664062 21.898438 32.414062 22.222656 32.730469 C 23.835938 34.300781 25.5625 35.132812 27.582031 35.300781 C 27.90625 35.328125 27.9375 35.308594 28.007812 34.984375 C 28.382812 33.242188 27.625 30.925781 25.863281 28.425781 L 25.542969 27.96875 L 25.699219 27.785156 C 28.945312 23.960938 29.132812 18.699219 26.257812 11.96875 L 26.207031 11.84375 L 27.945312 12.703125 C 31.53125 14.476562 32.316406 14.800781 33.03125 14.800781 C 33.976562 14.800781 33.78125 13.9375 32.472656 12.292969 C 28.519531 7.355469 25.394531 5.925781 21.921875 7.472656 L 21.558594 7.636719 L 21.578125 7.542969 C 21.699219 6.992188 21.761719 5.742188 21.699219 5.164062 C 21.496094 3.296875 20.664062 1.964844 19.003906 0.855469 C 18.480469 0.503906 18.457031 0.5 18.214844 0.632812\"/>\n",
              "</g>\n",
              "      </svg>\n",
              "    "
            ],
            "text/plain": [
              "<IPython.core.display.HTML object>"
            ]
          },
          "metadata": {},
          "output_type": "display_data"
        }
      ],
      "source": [
        "from ColabTurtle.Turtle import *\n",
        "initializeTurtle()\n",
        "# 上に 100 ピクセル移動\n",
        "forward(100)\n",
        "# 右に 90度 回転\n",
        "right(90)\n",
        "# 100 ピクセル移動\n",
        "forward(100)\n",
        "# 左に 180度 回転\n",
        "left(180)\n",
        "# 200 ピクセル移動\n",
        "forward(200)"
      ]
    },
    {
      "cell_type": "markdown",
      "metadata": {
        "id": "6rKoEjANbAb9"
      },
      "source": [
        "どうですか？ちょっと不格好だけどアルファベットの「T」が描けましたね。"
      ]
    },
    {
      "cell_type": "markdown",
      "metadata": {
        "id": "uB9ERaZzb97E"
      },
      "source": [
        "## 別の場所に描いてみよう\n",
        "\n",
        "今度は、別の場所に亀さんを移動して描いてみましょう。\n",
        "\n",
        "でも、亀さんは移動しながら線を描きますね。そこで penup() というコマンドをつかって亀さんに線を描かないようにします。\n",
        "\n",
        "penup() した状態で亀さんを座標（200,200）へ移動させてみましょう。\n",
        "\n",
        "座標 (x, y) へ亀を移動するコマンドは goto(x,y)\tです。"
      ]
    },
    {
      "cell_type": "code",
      "execution_count": null,
      "metadata": {
        "colab": {
          "base_uri": "https://localhost:8080/",
          "height": 520
        },
        "id": "Q2zTB98scqVb",
        "outputId": "20b08768-f54c-4381-d4b7-cec1fefb4573"
      },
      "outputs": [
        {
          "data": {
            "text/html": [
              "\n",
              "      <svg width=\"800\" height=\"500\">\n",
              "        <rect width=\"100%\" height=\"100%\" fill=\"black\"/>\n",
              "        <line x1=\"400\" y1=\"250\" x2=\"400.0\" y2=\"150.0\" stroke-linecap=\"round\" style=\"stroke:white;stroke-width:4\"/><line x1=\"400.0\" y1=\"150.0\" x2=\"500.0\" y2=\"150.0\" stroke-linecap=\"round\" style=\"stroke:white;stroke-width:4\"/><line x1=\"500.0\" y1=\"150.0\" x2=\"300.0\" y2=\"150.0\" stroke-linecap=\"round\" style=\"stroke:white;stroke-width:4\"/>\n",
              "        <g visibility=visible transform=\"rotate(270,200,200) translate(182, 182)\">\n",
              "<path style=\" stroke:none;fill-rule:evenodd;fill:white;fill-opacity:1;\" d=\"M 18.214844 0.632812 C 16.109375 1.800781 15.011719 4.074219 15.074219 7.132812 L 15.085938 7.652344 L 14.785156 7.496094 C 13.476562 6.824219 11.957031 6.671875 10.40625 7.066406 C 8.46875 7.550781 6.515625 9.15625 4.394531 11.992188 C 3.0625 13.777344 2.679688 14.636719 3.042969 15.027344 L 3.15625 15.152344 L 3.519531 15.152344 C 4.238281 15.152344 4.828125 14.886719 8.1875 13.039062 C 9.386719 12.378906 10.371094 11.839844 10.378906 11.839844 C 10.386719 11.839844 10.355469 11.929688 10.304688 12.035156 C 9.832031 13.09375 9.257812 14.820312 8.96875 16.078125 C 7.914062 20.652344 8.617188 24.53125 11.070312 27.660156 C 11.351562 28.015625 11.363281 27.914062 10.972656 28.382812 C 8.925781 30.84375 7.945312 33.28125 8.238281 35.1875 C 8.289062 35.527344 8.28125 35.523438 8.917969 35.523438 C 10.941406 35.523438 13.074219 34.207031 15.136719 31.6875 C 15.359375 31.417969 15.328125 31.425781 15.5625 31.574219 C 16.292969 32.042969 18.023438 32.964844 18.175781 32.964844 C 18.335938 32.964844 19.941406 32.210938 20.828125 31.71875 C 20.996094 31.625 21.136719 31.554688 21.136719 31.558594 C 21.203125 31.664062 21.898438 32.414062 22.222656 32.730469 C 23.835938 34.300781 25.5625 35.132812 27.582031 35.300781 C 27.90625 35.328125 27.9375 35.308594 28.007812 34.984375 C 28.382812 33.242188 27.625 30.925781 25.863281 28.425781 L 25.542969 27.96875 L 25.699219 27.785156 C 28.945312 23.960938 29.132812 18.699219 26.257812 11.96875 L 26.207031 11.84375 L 27.945312 12.703125 C 31.53125 14.476562 32.316406 14.800781 33.03125 14.800781 C 33.976562 14.800781 33.78125 13.9375 32.472656 12.292969 C 28.519531 7.355469 25.394531 5.925781 21.921875 7.472656 L 21.558594 7.636719 L 21.578125 7.542969 C 21.699219 6.992188 21.761719 5.742188 21.699219 5.164062 C 21.496094 3.296875 20.664062 1.964844 19.003906 0.855469 C 18.480469 0.503906 18.457031 0.5 18.214844 0.632812\"/>\n",
              "</g>\n",
              "      </svg>\n",
              "    "
            ],
            "text/plain": [
              "<IPython.core.display.HTML object>"
            ]
          },
          "metadata": {},
          "output_type": "display_data"
        }
      ],
      "source": [
        "from ColabTurtle.Turtle import *\n",
        "initializeTurtle()\n",
        "# 上に 100 ピクセル移動\n",
        "forward(100)\n",
        "# 右に 90度 回転\n",
        "right(90)\n",
        "# 100 ピクセル移動\n",
        "forward(100)\n",
        "# 左に 180度 回転\n",
        "left(180)\n",
        "# 200 ピクセル移動\n",
        "forward(200)\n",
        "# ペンアップ\n",
        "penup()\n",
        "# 座標(200,200)へ移動\n",
        "goto(200,200)"
      ]
    },
    {
      "cell_type": "markdown",
      "metadata": {
        "id": "Ex2pbv33dtvR"
      },
      "source": [
        "亀さんの向きは変わらないことに注意してください。\n",
        "\n",
        "この状態で 100 ピクセル移動させてみます。"
      ]
    },
    {
      "cell_type": "code",
      "execution_count": null,
      "metadata": {
        "colab": {
          "base_uri": "https://localhost:8080/",
          "height": 520
        },
        "id": "UHnW8AJ_d5kC",
        "outputId": "24e28521-da40-449d-9cd6-198977df3e79"
      },
      "outputs": [
        {
          "data": {
            "text/html": [
              "\n",
              "      <svg width=\"800\" height=\"500\">\n",
              "        <rect width=\"100%\" height=\"100%\" fill=\"black\"/>\n",
              "        <line x1=\"400\" y1=\"250\" x2=\"400.0\" y2=\"150.0\" stroke-linecap=\"round\" style=\"stroke:white;stroke-width:4\"/><line x1=\"400.0\" y1=\"150.0\" x2=\"500.0\" y2=\"150.0\" stroke-linecap=\"round\" style=\"stroke:white;stroke-width:4\"/><line x1=\"500.0\" y1=\"150.0\" x2=\"300.0\" y2=\"150.0\" stroke-linecap=\"round\" style=\"stroke:white;stroke-width:4\"/>\n",
              "        <g visibility=visible transform=\"rotate(270,100.0,200.0) translate(82.0, 182.0)\">\n",
              "<path style=\" stroke:none;fill-rule:evenodd;fill:white;fill-opacity:1;\" d=\"M 18.214844 0.632812 C 16.109375 1.800781 15.011719 4.074219 15.074219 7.132812 L 15.085938 7.652344 L 14.785156 7.496094 C 13.476562 6.824219 11.957031 6.671875 10.40625 7.066406 C 8.46875 7.550781 6.515625 9.15625 4.394531 11.992188 C 3.0625 13.777344 2.679688 14.636719 3.042969 15.027344 L 3.15625 15.152344 L 3.519531 15.152344 C 4.238281 15.152344 4.828125 14.886719 8.1875 13.039062 C 9.386719 12.378906 10.371094 11.839844 10.378906 11.839844 C 10.386719 11.839844 10.355469 11.929688 10.304688 12.035156 C 9.832031 13.09375 9.257812 14.820312 8.96875 16.078125 C 7.914062 20.652344 8.617188 24.53125 11.070312 27.660156 C 11.351562 28.015625 11.363281 27.914062 10.972656 28.382812 C 8.925781 30.84375 7.945312 33.28125 8.238281 35.1875 C 8.289062 35.527344 8.28125 35.523438 8.917969 35.523438 C 10.941406 35.523438 13.074219 34.207031 15.136719 31.6875 C 15.359375 31.417969 15.328125 31.425781 15.5625 31.574219 C 16.292969 32.042969 18.023438 32.964844 18.175781 32.964844 C 18.335938 32.964844 19.941406 32.210938 20.828125 31.71875 C 20.996094 31.625 21.136719 31.554688 21.136719 31.558594 C 21.203125 31.664062 21.898438 32.414062 22.222656 32.730469 C 23.835938 34.300781 25.5625 35.132812 27.582031 35.300781 C 27.90625 35.328125 27.9375 35.308594 28.007812 34.984375 C 28.382812 33.242188 27.625 30.925781 25.863281 28.425781 L 25.542969 27.96875 L 25.699219 27.785156 C 28.945312 23.960938 29.132812 18.699219 26.257812 11.96875 L 26.207031 11.84375 L 27.945312 12.703125 C 31.53125 14.476562 32.316406 14.800781 33.03125 14.800781 C 33.976562 14.800781 33.78125 13.9375 32.472656 12.292969 C 28.519531 7.355469 25.394531 5.925781 21.921875 7.472656 L 21.558594 7.636719 L 21.578125 7.542969 C 21.699219 6.992188 21.761719 5.742188 21.699219 5.164062 C 21.496094 3.296875 20.664062 1.964844 19.003906 0.855469 C 18.480469 0.503906 18.457031 0.5 18.214844 0.632812\"/>\n",
              "</g>\n",
              "      </svg>\n",
              "    "
            ],
            "text/plain": [
              "<IPython.core.display.HTML object>"
            ]
          },
          "metadata": {},
          "output_type": "display_data"
        }
      ],
      "source": [
        "from ColabTurtle.Turtle import *\n",
        "initializeTurtle()\n",
        "# 上に 100 ピクセル移動\n",
        "forward(100)\n",
        "# 右に 90度 回転\n",
        "right(90)\n",
        "# 100 ピクセル移動\n",
        "forward(100)\n",
        "# 左に 180度 回転\n",
        "left(180)\n",
        "# 200 ピクセル移動\n",
        "forward(200)\n",
        "# ペンアップ\n",
        "penup()\n",
        "# 座標(200,200)へ移動\n",
        "goto(200,200)\n",
        "# 100 ピクセル移動\n",
        "forward(100)"
      ]
    },
    {
      "cell_type": "markdown",
      "metadata": {
        "id": "_GjnNdBPeRx0"
      },
      "source": [
        "亀さんはペンを上に上げている状態 penup() なので何も描いてくれないですね。\n",
        "\n",
        "亀さんに再び描いてもらうためには pendown() を行います。\n",
        "\n",
        "ちょっと斜め上に向かって線を書いてみましょう。右に100度回転させてから100ピクセル移動させます。"
      ]
    },
    {
      "cell_type": "code",
      "execution_count": null,
      "metadata": {
        "colab": {
          "base_uri": "https://localhost:8080/",
          "height": 520
        },
        "id": "NzP2G-03euOc",
        "outputId": "2f99cec7-bfe2-49ec-bbca-b174294a70b5"
      },
      "outputs": [
        {
          "data": {
            "text/html": [
              "\n",
              "      <svg width=\"800\" height=\"500\">\n",
              "        <rect width=\"100%\" height=\"100%\" fill=\"black\"/>\n",
              "        <line x1=\"400\" y1=\"250\" x2=\"400.0\" y2=\"150.0\" stroke-linecap=\"round\" style=\"stroke:white;stroke-width:4\"/><line x1=\"400.0\" y1=\"150.0\" x2=\"500.0\" y2=\"150.0\" stroke-linecap=\"round\" style=\"stroke:white;stroke-width:4\"/><line x1=\"500.0\" y1=\"150.0\" x2=\"300.0\" y2=\"150.0\" stroke-linecap=\"round\" style=\"stroke:white;stroke-width:4\"/><line x1=\"200\" y1=\"250\" x2=\"217.365\" y2=\"151.519\" stroke-linecap=\"round\" style=\"stroke:white;stroke-width:4\"/>\n",
              "        <g visibility=visible transform=\"rotate(370,217.365,151.519) translate(199.365, 133.519)\">\n",
              "<path style=\" stroke:none;fill-rule:evenodd;fill:white;fill-opacity:1;\" d=\"M 18.214844 0.632812 C 16.109375 1.800781 15.011719 4.074219 15.074219 7.132812 L 15.085938 7.652344 L 14.785156 7.496094 C 13.476562 6.824219 11.957031 6.671875 10.40625 7.066406 C 8.46875 7.550781 6.515625 9.15625 4.394531 11.992188 C 3.0625 13.777344 2.679688 14.636719 3.042969 15.027344 L 3.15625 15.152344 L 3.519531 15.152344 C 4.238281 15.152344 4.828125 14.886719 8.1875 13.039062 C 9.386719 12.378906 10.371094 11.839844 10.378906 11.839844 C 10.386719 11.839844 10.355469 11.929688 10.304688 12.035156 C 9.832031 13.09375 9.257812 14.820312 8.96875 16.078125 C 7.914062 20.652344 8.617188 24.53125 11.070312 27.660156 C 11.351562 28.015625 11.363281 27.914062 10.972656 28.382812 C 8.925781 30.84375 7.945312 33.28125 8.238281 35.1875 C 8.289062 35.527344 8.28125 35.523438 8.917969 35.523438 C 10.941406 35.523438 13.074219 34.207031 15.136719 31.6875 C 15.359375 31.417969 15.328125 31.425781 15.5625 31.574219 C 16.292969 32.042969 18.023438 32.964844 18.175781 32.964844 C 18.335938 32.964844 19.941406 32.210938 20.828125 31.71875 C 20.996094 31.625 21.136719 31.554688 21.136719 31.558594 C 21.203125 31.664062 21.898438 32.414062 22.222656 32.730469 C 23.835938 34.300781 25.5625 35.132812 27.582031 35.300781 C 27.90625 35.328125 27.9375 35.308594 28.007812 34.984375 C 28.382812 33.242188 27.625 30.925781 25.863281 28.425781 L 25.542969 27.96875 L 25.699219 27.785156 C 28.945312 23.960938 29.132812 18.699219 26.257812 11.96875 L 26.207031 11.84375 L 27.945312 12.703125 C 31.53125 14.476562 32.316406 14.800781 33.03125 14.800781 C 33.976562 14.800781 33.78125 13.9375 32.472656 12.292969 C 28.519531 7.355469 25.394531 5.925781 21.921875 7.472656 L 21.558594 7.636719 L 21.578125 7.542969 C 21.699219 6.992188 21.761719 5.742188 21.699219 5.164062 C 21.496094 3.296875 20.664062 1.964844 19.003906 0.855469 C 18.480469 0.503906 18.457031 0.5 18.214844 0.632812\"/>\n",
              "</g>\n",
              "      </svg>\n",
              "    "
            ],
            "text/plain": [
              "<IPython.core.display.HTML object>"
            ]
          },
          "metadata": {},
          "output_type": "display_data"
        }
      ],
      "source": [
        "from ColabTurtle.Turtle import *\n",
        "initializeTurtle()\n",
        "# 上に 100 ピクセル移動\n",
        "forward(100)\n",
        "# 右に 90度 回転\n",
        "right(90)\n",
        "# 100 ピクセル移動\n",
        "forward(100)\n",
        "# 左に 180度 回転\n",
        "left(180)\n",
        "# 200 ピクセル移動\n",
        "forward(200)\n",
        "# ペンアップ\n",
        "penup()\n",
        "# 座標(200,200)へ移動\n",
        "goto(200,250)\n",
        "# ペンダウン\n",
        "pendown()\n",
        "# 右に 100 度回転\n",
        "right(100)\n",
        "# 100ピクセル移動\n",
        "forward(100)\n",
        "# 亀をホームポジション（中央）に戻す\n",
        "home()"
      ]
    },
    {
      "cell_type": "markdown",
      "metadata": {
        "id": "BAcTZeRnfV3-"
      },
      "source": [
        "不格好ですが IT と描くことができました。\n",
        "\n",
        "最後の home() は亀さんをホームポジション（中央の座標（400,250)）へ戻すためのコマンドです。"
      ]
    },
    {
      "cell_type": "markdown",
      "metadata": {
        "id": "2I7OZ6FoFA-r"
      },
      "source": [
        "# 亀さんに自分のイニシャルを描かせよう\n"
      ]
    },
    {
      "cell_type": "markdown",
      "metadata": {},
      "source": [
        "ベーシックコースの皆さんは、亀さんに線を書いてもらうことで自分のイニシャルを描いてみましょう。\n",
        "\n",
        "ご心配無く、複数の線、それも縦と横の線を描くことができればアルファベットは描けますね。\n",
        "\n",
        "線を描く最初の位置（ピクセル）と長さ、そして亀さんの向きに注意して描いてみましょう。\n",
        "\n",
        "資料にある 7セグメントディスプレイ は全部で7つの直線からできており、それを使って数字の 0〜9、アルファベットの A, C, E, F, G, H, J, L, O, P, S, U を描くことができます。\n",
        "\n",
        "また、14セグメントディスプレイだと、全てのアルファベットを描くことができます。\n",
        "\n",
        "以上を使って、亀さんに自分のイニシャルを描いてもらいましょう。"
      ]
    },
    {
      "cell_type": "markdown",
      "metadata": {},
      "source": [
        "## 便利なコマンド\n",
        "\n",
        "ここで、いくつか便利なコマンドを紹介しておきます。\n",
        "\n",
        "### **speed(s)**\n",
        "\n",
        "このコマンドは亀さんの動く速さを調整できます。括弧の中の **s** で速さを変更できます。1が最も遅く、13が最も早いです。また、初期値は ４ です。\n",
        "\n",
        "### **bgcolor(色)**\n",
        "\n",
        "背景の色を指定を指定できます。ここで括弧の中にはred, green, blue, cyan, lightgreen, turquoise, skyblueなどを指定できます。他にも[ここ](https://www.w3schools.com/colors/colors_names.asp)に書いてある color name が使えます。\n",
        "\n",
        "### **color(色)**\n",
        "\n",
        "ペンの色（亀さんと線の色）も指定できます。この括弧の中は上の**bgcolor**と同じような色を指定できます。"
      ]
    },
    {
      "cell_type": "markdown",
      "metadata": {
        "id": "Pl9SlsD-xCbi"
      },
      "source": [
        "## 参考： TY\n",
        "\n",
        "ぼくのイニシャルの例です．\n",
        "参考にしてください．"
      ]
    },
    {
      "cell_type": "code",
      "execution_count": null,
      "metadata": {
        "colab": {
          "base_uri": "https://localhost:8080/",
          "height": 520
        },
        "id": "gLvUDAh-txgQ",
        "outputId": "37fc8aae-6df7-4ffe-e8cd-deb206e2008c"
      },
      "outputs": [
        {
          "data": {
            "text/html": [
              "\n",
              "      <svg width=\"800\" height=\"500\">\n",
              "        <rect width=\"100%\" height=\"100%\" fill=\"lime\"/>\n",
              "        <line x1=\"200\" y1=\"250\" x2=\"200.0\" y2=\"50.0\" stroke-linecap=\"round\" style=\"stroke:mediumblue;stroke-width:4\"/><line x1=\"200.0\" y1=\"50.0\" x2=\"100.0\" y2=\"50.0\" stroke-linecap=\"round\" style=\"stroke:mediumblue;stroke-width:4\"/><line x1=\"100.0\" y1=\"50.0\" x2=\"300.0\" y2=\"50.0\" stroke-linecap=\"round\" style=\"stroke:mediumblue;stroke-width:4\"/><line x1=\"600\" y1=\"250\" x2=\"600.0\" y2=\"150.0\" stroke-linecap=\"round\" style=\"stroke:mediumblue;stroke-width:4\"/><line x1=\"600.0\" y1=\"150.0\" x2=\"500.0\" y2=\"50.0\" stroke-linecap=\"round\" style=\"stroke:mediumblue;stroke-width:4\"/><line x1=\"500.0\" y1=\"50.0\" x2=\"600.0\" y2=\"150.0\" stroke-linecap=\"round\" style=\"stroke:mediumblue;stroke-width:4\"/><line x1=\"600.0\" y1=\"150.0\" x2=\"700.0\" y2=\"50.0\" stroke-linecap=\"round\" style=\"stroke:mediumblue;stroke-width:4\"/>\n",
              "        <g visibility=visible transform=\"rotate(360,400,250) translate(382, 232)\">\n",
              "<path style=\" stroke:none;fill-rule:evenodd;fill:mediumblue;fill-opacity:1;\" d=\"M 18.214844 0.632812 C 16.109375 1.800781 15.011719 4.074219 15.074219 7.132812 L 15.085938 7.652344 L 14.785156 7.496094 C 13.476562 6.824219 11.957031 6.671875 10.40625 7.066406 C 8.46875 7.550781 6.515625 9.15625 4.394531 11.992188 C 3.0625 13.777344 2.679688 14.636719 3.042969 15.027344 L 3.15625 15.152344 L 3.519531 15.152344 C 4.238281 15.152344 4.828125 14.886719 8.1875 13.039062 C 9.386719 12.378906 10.371094 11.839844 10.378906 11.839844 C 10.386719 11.839844 10.355469 11.929688 10.304688 12.035156 C 9.832031 13.09375 9.257812 14.820312 8.96875 16.078125 C 7.914062 20.652344 8.617188 24.53125 11.070312 27.660156 C 11.351562 28.015625 11.363281 27.914062 10.972656 28.382812 C 8.925781 30.84375 7.945312 33.28125 8.238281 35.1875 C 8.289062 35.527344 8.28125 35.523438 8.917969 35.523438 C 10.941406 35.523438 13.074219 34.207031 15.136719 31.6875 C 15.359375 31.417969 15.328125 31.425781 15.5625 31.574219 C 16.292969 32.042969 18.023438 32.964844 18.175781 32.964844 C 18.335938 32.964844 19.941406 32.210938 20.828125 31.71875 C 20.996094 31.625 21.136719 31.554688 21.136719 31.558594 C 21.203125 31.664062 21.898438 32.414062 22.222656 32.730469 C 23.835938 34.300781 25.5625 35.132812 27.582031 35.300781 C 27.90625 35.328125 27.9375 35.308594 28.007812 34.984375 C 28.382812 33.242188 27.625 30.925781 25.863281 28.425781 L 25.542969 27.96875 L 25.699219 27.785156 C 28.945312 23.960938 29.132812 18.699219 26.257812 11.96875 L 26.207031 11.84375 L 27.945312 12.703125 C 31.53125 14.476562 32.316406 14.800781 33.03125 14.800781 C 33.976562 14.800781 33.78125 13.9375 32.472656 12.292969 C 28.519531 7.355469 25.394531 5.925781 21.921875 7.472656 L 21.558594 7.636719 L 21.578125 7.542969 C 21.699219 6.992188 21.761719 5.742188 21.699219 5.164062 C 21.496094 3.296875 20.664062 1.964844 19.003906 0.855469 C 18.480469 0.503906 18.457031 0.5 18.214844 0.632812\"/>\n",
              "</g>\n",
              "      </svg>\n",
              "    "
            ],
            "text/plain": [
              "<IPython.core.display.HTML object>"
            ]
          },
          "metadata": {},
          "output_type": "display_data"
        }
      ],
      "source": [
        "from ColabTurtle.Turtle import *\n",
        "initializeTurtle()\n",
        "bgcolor('lime')\n",
        "color('mediumblue')\n",
        "speed(2)\n",
        "\n",
        "# 以下，　T.Y の例\n",
        "# まず T を描く\n",
        "penup()\n",
        "goto(200,250)\n",
        "pendown()\n",
        "forward(200)\n",
        "left(90)\n",
        "forward(100)\n",
        "right(180)\n",
        "forward(200)\n",
        "penup()\n",
        "home()\n",
        "\n",
        "# 次に　Y を描く\n",
        "\n",
        "penup()\n",
        "goto(600,250)\n",
        "pendown()\n",
        "forward(100)\n",
        "left(45)\n",
        "forward(100*2**0.5)\n",
        "backward(100*2**0.5)\n",
        "right(90)\n",
        "forward(100*2**0.5)\n",
        "penup()\n",
        "\n",
        "# 亀をホームポジション（中央）に戻す\n",
        "home()"
      ]
    },
    {
      "cell_type": "markdown",
      "metadata": {
        "id": "xNL14adLzSih"
      },
      "source": [
        "#Turtle Graphics で多角形を描こう\n",
        "\n",
        "## 正四角形\n",
        "\n",
        "それでは，亀さんに一辺が100の正四角形を描かせましょう．\n",
        "タートルグラフィックスのコマンドは次のようになります．\n"
      ]
    },
    {
      "cell_type": "code",
      "execution_count": null,
      "metadata": {
        "id": "gJNyjJDBcckr"
      },
      "outputs": [],
      "source": [
        "from ColabTurtle.Turtle import *\n",
        "initializeTurtle()\n",
        "# 上に 100 ピクセル移動\n",
        "forward(100)\n",
        "# 右に 90度 回転\n",
        "right(90)\n",
        "# 100 ピクセル移動\n",
        "forward(100)\n",
        "# 左に 180度 回転\n",
        "left(180)\n",
        "# 200 ピクセル移動\n",
        "forward(200)"
      ]
    },
    {
      "cell_type": "markdown",
      "metadata": {
        "id": "2atRKruWwlxE"
      },
      "source": [
        "# 亀さんに絵を描かせよう"
      ]
    },
    {
      "cell_type": "code",
      "execution_count": null,
      "metadata": {
        "colab": {
          "base_uri": "https://localhost:8080/",
          "height": 520
        },
        "id": "NAocqt4-ztZS",
        "outputId": "ad5583e8-b5fc-4384-9b04-3eb0da78e7bf"
      },
      "outputs": [
        {
          "data": {
            "text/html": [
              "\n",
              "      <svg width=\"800\" height=\"500\">\n",
              "        <rect width=\"100%\" height=\"100%\" fill=\"black\"/>\n",
              "        <line x1=\"400\" y1=\"250\" x2=\"400.0\" y2=\"150.0\" stroke-linecap=\"round\" style=\"stroke:white;stroke-width:4\"/><line x1=\"400.0\" y1=\"150.0\" x2=\"500.0\" y2=\"150.0\" stroke-linecap=\"round\" style=\"stroke:white;stroke-width:4\"/><line x1=\"500.0\" y1=\"150.0\" x2=\"500.0\" y2=\"250.0\" stroke-linecap=\"round\" style=\"stroke:white;stroke-width:4\"/><line x1=\"500.0\" y1=\"250.0\" x2=\"400.0\" y2=\"250.0\" stroke-linecap=\"round\" style=\"stroke:white;stroke-width:4\"/>\n",
              "        <g visibility=visible transform=\"rotate(270,400.0,250.0) translate(382.0, 232.0)\">\n",
              "<path style=\" stroke:none;fill-rule:evenodd;fill:white;fill-opacity:1;\" d=\"M 18.214844 0.632812 C 16.109375 1.800781 15.011719 4.074219 15.074219 7.132812 L 15.085938 7.652344 L 14.785156 7.496094 C 13.476562 6.824219 11.957031 6.671875 10.40625 7.066406 C 8.46875 7.550781 6.515625 9.15625 4.394531 11.992188 C 3.0625 13.777344 2.679688 14.636719 3.042969 15.027344 L 3.15625 15.152344 L 3.519531 15.152344 C 4.238281 15.152344 4.828125 14.886719 8.1875 13.039062 C 9.386719 12.378906 10.371094 11.839844 10.378906 11.839844 C 10.386719 11.839844 10.355469 11.929688 10.304688 12.035156 C 9.832031 13.09375 9.257812 14.820312 8.96875 16.078125 C 7.914062 20.652344 8.617188 24.53125 11.070312 27.660156 C 11.351562 28.015625 11.363281 27.914062 10.972656 28.382812 C 8.925781 30.84375 7.945312 33.28125 8.238281 35.1875 C 8.289062 35.527344 8.28125 35.523438 8.917969 35.523438 C 10.941406 35.523438 13.074219 34.207031 15.136719 31.6875 C 15.359375 31.417969 15.328125 31.425781 15.5625 31.574219 C 16.292969 32.042969 18.023438 32.964844 18.175781 32.964844 C 18.335938 32.964844 19.941406 32.210938 20.828125 31.71875 C 20.996094 31.625 21.136719 31.554688 21.136719 31.558594 C 21.203125 31.664062 21.898438 32.414062 22.222656 32.730469 C 23.835938 34.300781 25.5625 35.132812 27.582031 35.300781 C 27.90625 35.328125 27.9375 35.308594 28.007812 34.984375 C 28.382812 33.242188 27.625 30.925781 25.863281 28.425781 L 25.542969 27.96875 L 25.699219 27.785156 C 28.945312 23.960938 29.132812 18.699219 26.257812 11.96875 L 26.207031 11.84375 L 27.945312 12.703125 C 31.53125 14.476562 32.316406 14.800781 33.03125 14.800781 C 33.976562 14.800781 33.78125 13.9375 32.472656 12.292969 C 28.519531 7.355469 25.394531 5.925781 21.921875 7.472656 L 21.558594 7.636719 L 21.578125 7.542969 C 21.699219 6.992188 21.761719 5.742188 21.699219 5.164062 C 21.496094 3.296875 20.664062 1.964844 19.003906 0.855469 C 18.480469 0.503906 18.457031 0.5 18.214844 0.632812\"/>\n",
              "</g>\n",
              "      </svg>\n",
              "    "
            ],
            "text/plain": [
              "<IPython.core.display.HTML object>"
            ]
          },
          "metadata": {},
          "output_type": "display_data"
        }
      ],
      "source": [
        "from ColabTurtle.Turtle import *\n",
        "initializeTurtle()\n",
        "# ここから描画\n",
        "forward(100)\n",
        "right(90)\n",
        "forward(100)\n",
        "right(90)\n",
        "forward(100)\n",
        "right(90)\n",
        "forward(100)\n",
        "# right(90)"
      ]
    },
    {
      "cell_type": "markdown",
      "metadata": {
        "id": "qOpjRaks1FAN"
      },
      "source": [
        "## 同じ処理のくり返しはループでまわす\n",
        "\n",
        "亀さんが，ちゃんと，四角形を描いてくれましたか．\n",
        "\n",
        "さて，先のプログラムをよく見ると，```forward(100)```と```right(90)```が４回くり返し登場しています．\n",
        "\n",
        "なんだか，無駄ですね．このようなくり返しはループで処理できます．\n",
        "\n",
        "\n",
        "\n"
      ]
    },
    {
      "cell_type": "code",
      "execution_count": null,
      "metadata": {
        "colab": {
          "base_uri": "https://localhost:8080/",
          "height": 521
        },
        "id": "-uCxWJ5t5Q6g",
        "outputId": "8cbdc1f9-36bf-4d3e-a62d-da10e94bb8ed"
      },
      "outputs": [
        {
          "data": {
            "text/html": [
              "\n",
              "      <svg width=\"800\" height=\"500\">\n",
              "        <rect width=\"100%\" height=\"100%\" fill=\"black\"/>\n",
              "        <line x1=\"400\" y1=\"250\" x2=\"400.0\" y2=\"150.0\" stroke-linecap=\"round\" style=\"stroke:white;stroke-width:4\"/><line x1=\"400.0\" y1=\"150.0\" x2=\"500.0\" y2=\"150.0\" stroke-linecap=\"round\" style=\"stroke:white;stroke-width:4\"/><line x1=\"500.0\" y1=\"150.0\" x2=\"500.0\" y2=\"250.0\" stroke-linecap=\"round\" style=\"stroke:white;stroke-width:4\"/><line x1=\"500.0\" y1=\"250.0\" x2=\"400.0\" y2=\"250.0\" stroke-linecap=\"round\" style=\"stroke:white;stroke-width:4\"/>\n",
              "        <g visibility=visible transform=\"rotate(360,400.0,250.0) translate(382.0, 232.0)\">\n",
              "<path style=\" stroke:none;fill-rule:evenodd;fill:white;fill-opacity:1;\" d=\"M 18.214844 0.632812 C 16.109375 1.800781 15.011719 4.074219 15.074219 7.132812 L 15.085938 7.652344 L 14.785156 7.496094 C 13.476562 6.824219 11.957031 6.671875 10.40625 7.066406 C 8.46875 7.550781 6.515625 9.15625 4.394531 11.992188 C 3.0625 13.777344 2.679688 14.636719 3.042969 15.027344 L 3.15625 15.152344 L 3.519531 15.152344 C 4.238281 15.152344 4.828125 14.886719 8.1875 13.039062 C 9.386719 12.378906 10.371094 11.839844 10.378906 11.839844 C 10.386719 11.839844 10.355469 11.929688 10.304688 12.035156 C 9.832031 13.09375 9.257812 14.820312 8.96875 16.078125 C 7.914062 20.652344 8.617188 24.53125 11.070312 27.660156 C 11.351562 28.015625 11.363281 27.914062 10.972656 28.382812 C 8.925781 30.84375 7.945312 33.28125 8.238281 35.1875 C 8.289062 35.527344 8.28125 35.523438 8.917969 35.523438 C 10.941406 35.523438 13.074219 34.207031 15.136719 31.6875 C 15.359375 31.417969 15.328125 31.425781 15.5625 31.574219 C 16.292969 32.042969 18.023438 32.964844 18.175781 32.964844 C 18.335938 32.964844 19.941406 32.210938 20.828125 31.71875 C 20.996094 31.625 21.136719 31.554688 21.136719 31.558594 C 21.203125 31.664062 21.898438 32.414062 22.222656 32.730469 C 23.835938 34.300781 25.5625 35.132812 27.582031 35.300781 C 27.90625 35.328125 27.9375 35.308594 28.007812 34.984375 C 28.382812 33.242188 27.625 30.925781 25.863281 28.425781 L 25.542969 27.96875 L 25.699219 27.785156 C 28.945312 23.960938 29.132812 18.699219 26.257812 11.96875 L 26.207031 11.84375 L 27.945312 12.703125 C 31.53125 14.476562 32.316406 14.800781 33.03125 14.800781 C 33.976562 14.800781 33.78125 13.9375 32.472656 12.292969 C 28.519531 7.355469 25.394531 5.925781 21.921875 7.472656 L 21.558594 7.636719 L 21.578125 7.542969 C 21.699219 6.992188 21.761719 5.742188 21.699219 5.164062 C 21.496094 3.296875 20.664062 1.964844 19.003906 0.855469 C 18.480469 0.503906 18.457031 0.5 18.214844 0.632812\"/>\n",
              "</g>\n",
              "      </svg>\n",
              "    "
            ],
            "text/plain": [
              "<IPython.core.display.HTML object>"
            ]
          },
          "metadata": {},
          "output_type": "display_data"
        }
      ],
      "source": [
        "from ColabTurtle.Turtle import *\n",
        "initializeTurtle()\n",
        "# ここから描画\n",
        "for i in range(4):\n",
        "    forward(100)\n",
        "    right(90)"
      ]
    },
    {
      "cell_type": "markdown",
      "metadata": {
        "id": "qk-Y5wn98oV3"
      },
      "source": [
        "\n",
        "\n",
        "---\n",
        "\n",
        "\n",
        "## やってみよう：正三角形\n",
        "\n",
        "\n"
      ]
    },
    {
      "cell_type": "code",
      "execution_count": null,
      "metadata": {
        "colab": {
          "base_uri": "https://localhost:8080/",
          "height": 521
        },
        "id": "DpHMIVkN8idV",
        "outputId": "30c5fc5e-f134-49f2-9bf3-46add0359b4b"
      },
      "outputs": [
        {
          "data": {
            "text/html": [
              "\n",
              "      <svg width=\"800\" height=\"500\">\n",
              "        <rect width=\"100%\" height=\"100%\" fill=\"black\"/>\n",
              "        <line x1=\"400\" y1=\"250\" x2=\"400.0\" y2=\"150.0\" stroke-linecap=\"round\" style=\"stroke:white;stroke-width:4\"/><line x1=\"400.0\" y1=\"150.0\" x2=\"486.603\" y2=\"200.0\" stroke-linecap=\"round\" style=\"stroke:white;stroke-width:4\"/><line x1=\"486.603\" y1=\"200.0\" x2=\"400.0\" y2=\"250.0\" stroke-linecap=\"round\" style=\"stroke:white;stroke-width:4\"/>\n",
              "        <g visibility=visible transform=\"rotate(360,400.0,250.0) translate(382.0, 232.0)\">\n",
              "<path style=\" stroke:none;fill-rule:evenodd;fill:white;fill-opacity:1;\" d=\"M 18.214844 0.632812 C 16.109375 1.800781 15.011719 4.074219 15.074219 7.132812 L 15.085938 7.652344 L 14.785156 7.496094 C 13.476562 6.824219 11.957031 6.671875 10.40625 7.066406 C 8.46875 7.550781 6.515625 9.15625 4.394531 11.992188 C 3.0625 13.777344 2.679688 14.636719 3.042969 15.027344 L 3.15625 15.152344 L 3.519531 15.152344 C 4.238281 15.152344 4.828125 14.886719 8.1875 13.039062 C 9.386719 12.378906 10.371094 11.839844 10.378906 11.839844 C 10.386719 11.839844 10.355469 11.929688 10.304688 12.035156 C 9.832031 13.09375 9.257812 14.820312 8.96875 16.078125 C 7.914062 20.652344 8.617188 24.53125 11.070312 27.660156 C 11.351562 28.015625 11.363281 27.914062 10.972656 28.382812 C 8.925781 30.84375 7.945312 33.28125 8.238281 35.1875 C 8.289062 35.527344 8.28125 35.523438 8.917969 35.523438 C 10.941406 35.523438 13.074219 34.207031 15.136719 31.6875 C 15.359375 31.417969 15.328125 31.425781 15.5625 31.574219 C 16.292969 32.042969 18.023438 32.964844 18.175781 32.964844 C 18.335938 32.964844 19.941406 32.210938 20.828125 31.71875 C 20.996094 31.625 21.136719 31.554688 21.136719 31.558594 C 21.203125 31.664062 21.898438 32.414062 22.222656 32.730469 C 23.835938 34.300781 25.5625 35.132812 27.582031 35.300781 C 27.90625 35.328125 27.9375 35.308594 28.007812 34.984375 C 28.382812 33.242188 27.625 30.925781 25.863281 28.425781 L 25.542969 27.96875 L 25.699219 27.785156 C 28.945312 23.960938 29.132812 18.699219 26.257812 11.96875 L 26.207031 11.84375 L 27.945312 12.703125 C 31.53125 14.476562 32.316406 14.800781 33.03125 14.800781 C 33.976562 14.800781 33.78125 13.9375 32.472656 12.292969 C 28.519531 7.355469 25.394531 5.925781 21.921875 7.472656 L 21.558594 7.636719 L 21.578125 7.542969 C 21.699219 6.992188 21.761719 5.742188 21.699219 5.164062 C 21.496094 3.296875 20.664062 1.964844 19.003906 0.855469 C 18.480469 0.503906 18.457031 0.5 18.214844 0.632812\"/>\n",
              "</g>\n",
              "      </svg>\n",
              "    "
            ],
            "text/plain": [
              "<IPython.core.display.HTML object>"
            ]
          },
          "metadata": {},
          "output_type": "display_data"
        }
      ],
      "source": [
        "from ColabTurtle.Turtle import *\n",
        "initializeTurtle()\n",
        "# ここから描画\n",
        "for i in range(?):\n",
        "    forward(100)\n",
        "    right(??)"
      ]
    },
    {
      "cell_type": "markdown",
      "metadata": {
        "id": "kZ6hZ-nS86Ny"
      },
      "source": [
        "## やってみよう：正六角形"
      ]
    },
    {
      "cell_type": "code",
      "execution_count": null,
      "metadata": {
        "colab": {
          "base_uri": "https://localhost:8080/",
          "height": 521
        },
        "id": "jg0MuTu_la79",
        "outputId": "a09ffe0a-c6df-4754-c23f-c92c96a0c2c8"
      },
      "outputs": [
        {
          "data": {
            "text/html": [
              "\n",
              "      <svg width=\"800\" height=\"500\">\n",
              "        <rect width=\"100%\" height=\"100%\" fill=\"black\"/>\n",
              "        <line x1=\"400\" y1=\"250\" x2=\"400.0\" y2=\"150.0\" stroke-linecap=\"round\" style=\"stroke:white;stroke-width:4\"/><line x1=\"400.0\" y1=\"150.0\" x2=\"486.603\" y2=\"100.0\" stroke-linecap=\"round\" style=\"stroke:white;stroke-width:4\"/><line x1=\"486.603\" y1=\"100.0\" x2=\"573.206\" y2=\"150.0\" stroke-linecap=\"round\" style=\"stroke:white;stroke-width:4\"/><line x1=\"573.206\" y1=\"150.0\" x2=\"573.206\" y2=\"250.0\" stroke-linecap=\"round\" style=\"stroke:white;stroke-width:4\"/><line x1=\"573.206\" y1=\"250.0\" x2=\"486.603\" y2=\"300.0\" stroke-linecap=\"round\" style=\"stroke:white;stroke-width:4\"/><line x1=\"486.603\" y1=\"300.0\" x2=\"400.0\" y2=\"250.0\" stroke-linecap=\"round\" style=\"stroke:white;stroke-width:4\"/>\n",
              "        <g visibility=visible transform=\"rotate(360,400.0,250.0) translate(382.0, 232.0)\">\n",
              "<path style=\" stroke:none;fill-rule:evenodd;fill:white;fill-opacity:1;\" d=\"M 18.214844 0.632812 C 16.109375 1.800781 15.011719 4.074219 15.074219 7.132812 L 15.085938 7.652344 L 14.785156 7.496094 C 13.476562 6.824219 11.957031 6.671875 10.40625 7.066406 C 8.46875 7.550781 6.515625 9.15625 4.394531 11.992188 C 3.0625 13.777344 2.679688 14.636719 3.042969 15.027344 L 3.15625 15.152344 L 3.519531 15.152344 C 4.238281 15.152344 4.828125 14.886719 8.1875 13.039062 C 9.386719 12.378906 10.371094 11.839844 10.378906 11.839844 C 10.386719 11.839844 10.355469 11.929688 10.304688 12.035156 C 9.832031 13.09375 9.257812 14.820312 8.96875 16.078125 C 7.914062 20.652344 8.617188 24.53125 11.070312 27.660156 C 11.351562 28.015625 11.363281 27.914062 10.972656 28.382812 C 8.925781 30.84375 7.945312 33.28125 8.238281 35.1875 C 8.289062 35.527344 8.28125 35.523438 8.917969 35.523438 C 10.941406 35.523438 13.074219 34.207031 15.136719 31.6875 C 15.359375 31.417969 15.328125 31.425781 15.5625 31.574219 C 16.292969 32.042969 18.023438 32.964844 18.175781 32.964844 C 18.335938 32.964844 19.941406 32.210938 20.828125 31.71875 C 20.996094 31.625 21.136719 31.554688 21.136719 31.558594 C 21.203125 31.664062 21.898438 32.414062 22.222656 32.730469 C 23.835938 34.300781 25.5625 35.132812 27.582031 35.300781 C 27.90625 35.328125 27.9375 35.308594 28.007812 34.984375 C 28.382812 33.242188 27.625 30.925781 25.863281 28.425781 L 25.542969 27.96875 L 25.699219 27.785156 C 28.945312 23.960938 29.132812 18.699219 26.257812 11.96875 L 26.207031 11.84375 L 27.945312 12.703125 C 31.53125 14.476562 32.316406 14.800781 33.03125 14.800781 C 33.976562 14.800781 33.78125 13.9375 32.472656 12.292969 C 28.519531 7.355469 25.394531 5.925781 21.921875 7.472656 L 21.558594 7.636719 L 21.578125 7.542969 C 21.699219 6.992188 21.761719 5.742188 21.699219 5.164062 C 21.496094 3.296875 20.664062 1.964844 19.003906 0.855469 C 18.480469 0.503906 18.457031 0.5 18.214844 0.632812\"/>\n",
              "</g>\n",
              "      </svg>\n",
              "    "
            ],
            "text/plain": [
              "<IPython.core.display.HTML object>"
            ]
          },
          "metadata": {},
          "output_type": "display_data"
        }
      ],
      "source": [
        "from ColabTurtle.Turtle import *\n",
        "initializeTurtle()\n",
        "# ここから描画\n",
        "for i in range(?):\n",
        "    forward(100)\n",
        "    right(??)"
      ]
    },
    {
      "cell_type": "markdown",
      "metadata": {
        "id": "VTmBE7Qu9U01"
      },
      "source": [
        "## 一般化：正n角形\n",
        "\n",
        "正n角形を描く関数 polygon(n, length) を作ろう．\n",
        "\n",
        "ここで length は一辺の長さです．\n",
        "\n",
        "polygon(n, length=120) と書くことで length の初期値を指定できます．\n"
      ]
    },
    {
      "cell_type": "code",
      "execution_count": null,
      "metadata": {
        "colab": {
          "base_uri": "https://localhost:8080/",
          "height": 521
        },
        "id": "JisYekkm9n2J",
        "outputId": "0057e04f-183e-470d-9e8a-39e77e8ff61b"
      },
      "outputs": [
        {
          "data": {
            "text/html": [
              "\n",
              "      <svg width=\"800\" height=\"500\">\n",
              "        <rect width=\"100%\" height=\"100%\" fill=\"black\"/>\n",
              "        <line x1=\"400\" y1=\"250\" x2=\"400.0\" y2=\"200.0\" stroke-linecap=\"round\" style=\"stroke:white;stroke-width:4\"/><line x1=\"400.0\" y1=\"200.0\" x2=\"429.389\" y2=\"159.549\" stroke-linecap=\"round\" style=\"stroke:white;stroke-width:4\"/><line x1=\"429.389\" y1=\"159.549\" x2=\"476.942\" y2=\"144.098\" stroke-linecap=\"round\" style=\"stroke:white;stroke-width:4\"/><line x1=\"476.942\" y1=\"144.098\" x2=\"524.495\" y2=\"159.549\" stroke-linecap=\"round\" style=\"stroke:white;stroke-width:4\"/><line x1=\"524.495\" y1=\"159.549\" x2=\"553.884\" y2=\"200.0\" stroke-linecap=\"round\" style=\"stroke:white;stroke-width:4\"/><line x1=\"553.884\" y1=\"200.0\" x2=\"553.884\" y2=\"250.0\" stroke-linecap=\"round\" style=\"stroke:white;stroke-width:4\"/><line x1=\"553.884\" y1=\"250.0\" x2=\"524.495\" y2=\"290.451\" stroke-linecap=\"round\" style=\"stroke:white;stroke-width:4\"/><line x1=\"524.495\" y1=\"290.451\" x2=\"476.942\" y2=\"305.902\" stroke-linecap=\"round\" style=\"stroke:white;stroke-width:4\"/><line x1=\"476.942\" y1=\"305.902\" x2=\"429.389\" y2=\"290.451\" stroke-linecap=\"round\" style=\"stroke:white;stroke-width:4\"/><line x1=\"429.389\" y1=\"290.451\" x2=\"400.0\" y2=\"250.0\" stroke-linecap=\"round\" style=\"stroke:white;stroke-width:4\"/>\n",
              "        <g visibility=visible transform=\"rotate(360.0,400.0,250.0) translate(382.0, 232.0)\">\n",
              "<path style=\" stroke:none;fill-rule:evenodd;fill:white;fill-opacity:1;\" d=\"M 18.214844 0.632812 C 16.109375 1.800781 15.011719 4.074219 15.074219 7.132812 L 15.085938 7.652344 L 14.785156 7.496094 C 13.476562 6.824219 11.957031 6.671875 10.40625 7.066406 C 8.46875 7.550781 6.515625 9.15625 4.394531 11.992188 C 3.0625 13.777344 2.679688 14.636719 3.042969 15.027344 L 3.15625 15.152344 L 3.519531 15.152344 C 4.238281 15.152344 4.828125 14.886719 8.1875 13.039062 C 9.386719 12.378906 10.371094 11.839844 10.378906 11.839844 C 10.386719 11.839844 10.355469 11.929688 10.304688 12.035156 C 9.832031 13.09375 9.257812 14.820312 8.96875 16.078125 C 7.914062 20.652344 8.617188 24.53125 11.070312 27.660156 C 11.351562 28.015625 11.363281 27.914062 10.972656 28.382812 C 8.925781 30.84375 7.945312 33.28125 8.238281 35.1875 C 8.289062 35.527344 8.28125 35.523438 8.917969 35.523438 C 10.941406 35.523438 13.074219 34.207031 15.136719 31.6875 C 15.359375 31.417969 15.328125 31.425781 15.5625 31.574219 C 16.292969 32.042969 18.023438 32.964844 18.175781 32.964844 C 18.335938 32.964844 19.941406 32.210938 20.828125 31.71875 C 20.996094 31.625 21.136719 31.554688 21.136719 31.558594 C 21.203125 31.664062 21.898438 32.414062 22.222656 32.730469 C 23.835938 34.300781 25.5625 35.132812 27.582031 35.300781 C 27.90625 35.328125 27.9375 35.308594 28.007812 34.984375 C 28.382812 33.242188 27.625 30.925781 25.863281 28.425781 L 25.542969 27.96875 L 25.699219 27.785156 C 28.945312 23.960938 29.132812 18.699219 26.257812 11.96875 L 26.207031 11.84375 L 27.945312 12.703125 C 31.53125 14.476562 32.316406 14.800781 33.03125 14.800781 C 33.976562 14.800781 33.78125 13.9375 32.472656 12.292969 C 28.519531 7.355469 25.394531 5.925781 21.921875 7.472656 L 21.558594 7.636719 L 21.578125 7.542969 C 21.699219 6.992188 21.761719 5.742188 21.699219 5.164062 C 21.496094 3.296875 20.664062 1.964844 19.003906 0.855469 C 18.480469 0.503906 18.457031 0.5 18.214844 0.632812\"/>\n",
              "</g>\n",
              "      </svg>\n",
              "    "
            ],
            "text/plain": [
              "<IPython.core.display.HTML object>"
            ]
          },
          "metadata": {},
          "output_type": "display_data"
        }
      ],
      "source": [
        "from ColabTurtle.Turtle import *\n",
        "initializeTurtle()\n",
        "# 関数 polygon\n",
        "def polygon(n, length=120):\n",
        "    length = ??\n",
        "    angle = ??\n",
        "    for i in range(?):\n",
        "        ??\n",
        "        ??\n",
        "\n",
        "# polygon を実行し描画させる\n",
        "polygon(10,100)"
      ]
    },
    {
      "cell_type": "markdown",
      "metadata": {
        "id": "NOGXVhV3-ymp"
      },
      "source": [
        "## 円はどう描く？"
      ]
    },
    {
      "cell_type": "code",
      "execution_count": null,
      "metadata": {
        "colab": {
          "base_uri": "https://localhost:8080/",
          "height": 521
        },
        "id": "fhtLB62p-238",
        "outputId": "67cba99c-23bf-4a25-f821-9d5e2241af07"
      },
      "outputs": [
        {
          "data": {
            "text/html": [
              "\n",
              "      <svg width=\"800\" height=\"500\">\n",
              "        <rect width=\"100%\" height=\"100%\" fill=\"black\"/>\n",
              "        <line x1=\"400\" y1=\"200\" x2=\"400.0\" y2=\"197.5\" stroke-linecap=\"round\" style=\"stroke:white;stroke-width:4\"/><line x1=\"400.0\" y1=\"197.5\" x2=\"400.773\" y2=\"195.122\" stroke-linecap=\"round\" style=\"stroke:white;stroke-width:4\"/><line x1=\"400.773\" y1=\"195.122\" x2=\"402.242\" y2=\"193.099\" stroke-linecap=\"round\" style=\"stroke:white;stroke-width:4\"/><line x1=\"402.242\" y1=\"193.099\" x2=\"404.265\" y2=\"191.63\" stroke-linecap=\"round\" style=\"stroke:white;stroke-width:4\"/><line x1=\"404.265\" y1=\"191.63\" x2=\"406.643\" y2=\"190.857\" stroke-linecap=\"round\" style=\"stroke:white;stroke-width:4\"/><line x1=\"406.643\" y1=\"190.857\" x2=\"409.143\" y2=\"190.857\" stroke-linecap=\"round\" style=\"stroke:white;stroke-width:4\"/><line x1=\"409.143\" y1=\"190.857\" x2=\"411.521\" y2=\"191.63\" stroke-linecap=\"round\" style=\"stroke:white;stroke-width:4\"/><line x1=\"411.521\" y1=\"191.63\" x2=\"413.544\" y2=\"193.099\" stroke-linecap=\"round\" style=\"stroke:white;stroke-width:4\"/><line x1=\"413.544\" y1=\"193.099\" x2=\"415.013\" y2=\"195.122\" stroke-linecap=\"round\" style=\"stroke:white;stroke-width:4\"/><line x1=\"415.013\" y1=\"195.122\" x2=\"415.786\" y2=\"197.5\" stroke-linecap=\"round\" style=\"stroke:white;stroke-width:4\"/><line x1=\"415.786\" y1=\"197.5\" x2=\"415.786\" y2=\"200.0\" stroke-linecap=\"round\" style=\"stroke:white;stroke-width:4\"/><line x1=\"415.786\" y1=\"200.0\" x2=\"415.013\" y2=\"202.378\" stroke-linecap=\"round\" style=\"stroke:white;stroke-width:4\"/><line x1=\"415.013\" y1=\"202.378\" x2=\"413.544\" y2=\"204.401\" stroke-linecap=\"round\" style=\"stroke:white;stroke-width:4\"/><line x1=\"413.544\" y1=\"204.401\" x2=\"411.521\" y2=\"205.87\" stroke-linecap=\"round\" style=\"stroke:white;stroke-width:4\"/><line x1=\"411.521\" y1=\"205.87\" x2=\"409.143\" y2=\"206.643\" stroke-linecap=\"round\" style=\"stroke:white;stroke-width:4\"/><line x1=\"409.143\" y1=\"206.643\" x2=\"406.643\" y2=\"206.643\" stroke-linecap=\"round\" style=\"stroke:white;stroke-width:4\"/><line x1=\"406.643\" y1=\"206.643\" x2=\"404.265\" y2=\"205.87\" stroke-linecap=\"round\" style=\"stroke:white;stroke-width:4\"/><line x1=\"404.265\" y1=\"205.87\" x2=\"402.242\" y2=\"204.401\" stroke-linecap=\"round\" style=\"stroke:white;stroke-width:4\"/><line x1=\"402.242\" y1=\"204.401\" x2=\"400.773\" y2=\"202.378\" stroke-linecap=\"round\" style=\"stroke:white;stroke-width:4\"/><line x1=\"400.773\" y1=\"202.378\" x2=\"400.0\" y2=\"200.0\" stroke-linecap=\"round\" style=\"stroke:white;stroke-width:4\"/>\n",
              "        <g visibility=visible transform=\"rotate(360,400,250) translate(382, 232)\">\n",
              "<path style=\" stroke:none;fill-rule:evenodd;fill:white;fill-opacity:1;\" d=\"M 18.214844 0.632812 C 16.109375 1.800781 15.011719 4.074219 15.074219 7.132812 L 15.085938 7.652344 L 14.785156 7.496094 C 13.476562 6.824219 11.957031 6.671875 10.40625 7.066406 C 8.46875 7.550781 6.515625 9.15625 4.394531 11.992188 C 3.0625 13.777344 2.679688 14.636719 3.042969 15.027344 L 3.15625 15.152344 L 3.519531 15.152344 C 4.238281 15.152344 4.828125 14.886719 8.1875 13.039062 C 9.386719 12.378906 10.371094 11.839844 10.378906 11.839844 C 10.386719 11.839844 10.355469 11.929688 10.304688 12.035156 C 9.832031 13.09375 9.257812 14.820312 8.96875 16.078125 C 7.914062 20.652344 8.617188 24.53125 11.070312 27.660156 C 11.351562 28.015625 11.363281 27.914062 10.972656 28.382812 C 8.925781 30.84375 7.945312 33.28125 8.238281 35.1875 C 8.289062 35.527344 8.28125 35.523438 8.917969 35.523438 C 10.941406 35.523438 13.074219 34.207031 15.136719 31.6875 C 15.359375 31.417969 15.328125 31.425781 15.5625 31.574219 C 16.292969 32.042969 18.023438 32.964844 18.175781 32.964844 C 18.335938 32.964844 19.941406 32.210938 20.828125 31.71875 C 20.996094 31.625 21.136719 31.554688 21.136719 31.558594 C 21.203125 31.664062 21.898438 32.414062 22.222656 32.730469 C 23.835938 34.300781 25.5625 35.132812 27.582031 35.300781 C 27.90625 35.328125 27.9375 35.308594 28.007812 34.984375 C 28.382812 33.242188 27.625 30.925781 25.863281 28.425781 L 25.542969 27.96875 L 25.699219 27.785156 C 28.945312 23.960938 29.132812 18.699219 26.257812 11.96875 L 26.207031 11.84375 L 27.945312 12.703125 C 31.53125 14.476562 32.316406 14.800781 33.03125 14.800781 C 33.976562 14.800781 33.78125 13.9375 32.472656 12.292969 C 28.519531 7.355469 25.394531 5.925781 21.921875 7.472656 L 21.558594 7.636719 L 21.578125 7.542969 C 21.699219 6.992188 21.761719 5.742188 21.699219 5.164062 C 21.496094 3.296875 20.664062 1.964844 19.003906 0.855469 C 18.480469 0.503906 18.457031 0.5 18.214844 0.632812\"/>\n",
              "</g>\n",
              "      </svg>\n",
              "    "
            ],
            "text/plain": [
              "<IPython.core.display.HTML object>"
            ]
          },
          "metadata": {},
          "output_type": "display_data"
        }
      ],
      "source": [
        "from ColabTurtle.Turtle import *\n",
        "initializeTurtle()\n",
        "penup()\n",
        "goto(400,200)\n",
        "pendown()\n",
        "??\n",
        "penup()\n",
        "home()"
      ]
    },
    {
      "cell_type": "markdown",
      "metadata": {
        "id": "gUgsCGTG_ucj"
      },
      "source": [
        "## 少し複雑な図形に挑戦\n",
        "\n",
        "ここからは亀さんにいろいろな星を描いてもらいましょう．\n",
        "\n",
        "### 星（star）"
      ]
    },
    {
      "cell_type": "code",
      "execution_count": null,
      "metadata": {
        "colab": {
          "base_uri": "https://localhost:8080/",
          "height": 521
        },
        "id": "AKjo_DZZoUBm",
        "outputId": "d170683b-35e1-40f0-8be7-3ffc952a80d4"
      },
      "outputs": [
        {
          "data": {
            "text/html": [
              "\n",
              "      <svg width=\"800\" height=\"500\">\n",
              "        <rect width=\"100%\" height=\"100%\" fill=\"black\"/>\n",
              "        <line x1=\"400\" y1=\"250\" x2=\"400.0\" y2=\"50.0\" stroke-linecap=\"round\" style=\"stroke:white;stroke-width:4\"/><line x1=\"400.0\" y1=\"50.0\" x2=\"517.557\" y2=\"211.803\" stroke-linecap=\"round\" style=\"stroke:white;stroke-width:4\"/><line x1=\"517.557\" y1=\"211.803\" x2=\"327.346\" y2=\"150.0\" stroke-linecap=\"round\" style=\"stroke:white;stroke-width:4\"/><line x1=\"327.346\" y1=\"150.0\" x2=\"517.557\" y2=\"88.197\" stroke-linecap=\"round\" style=\"stroke:white;stroke-width:4\"/><line x1=\"517.557\" y1=\"88.197\" x2=\"400.0\" y2=\"250.0\" stroke-linecap=\"round\" style=\"stroke:white;stroke-width:4\"/>\n",
              "        <g visibility=visible transform=\"rotate(360.0,400.0,250.0) translate(382.0, 232.0)\">\n",
              "<path style=\" stroke:none;fill-rule:evenodd;fill:white;fill-opacity:1;\" d=\"M 18.214844 0.632812 C 16.109375 1.800781 15.011719 4.074219 15.074219 7.132812 L 15.085938 7.652344 L 14.785156 7.496094 C 13.476562 6.824219 11.957031 6.671875 10.40625 7.066406 C 8.46875 7.550781 6.515625 9.15625 4.394531 11.992188 C 3.0625 13.777344 2.679688 14.636719 3.042969 15.027344 L 3.15625 15.152344 L 3.519531 15.152344 C 4.238281 15.152344 4.828125 14.886719 8.1875 13.039062 C 9.386719 12.378906 10.371094 11.839844 10.378906 11.839844 C 10.386719 11.839844 10.355469 11.929688 10.304688 12.035156 C 9.832031 13.09375 9.257812 14.820312 8.96875 16.078125 C 7.914062 20.652344 8.617188 24.53125 11.070312 27.660156 C 11.351562 28.015625 11.363281 27.914062 10.972656 28.382812 C 8.925781 30.84375 7.945312 33.28125 8.238281 35.1875 C 8.289062 35.527344 8.28125 35.523438 8.917969 35.523438 C 10.941406 35.523438 13.074219 34.207031 15.136719 31.6875 C 15.359375 31.417969 15.328125 31.425781 15.5625 31.574219 C 16.292969 32.042969 18.023438 32.964844 18.175781 32.964844 C 18.335938 32.964844 19.941406 32.210938 20.828125 31.71875 C 20.996094 31.625 21.136719 31.554688 21.136719 31.558594 C 21.203125 31.664062 21.898438 32.414062 22.222656 32.730469 C 23.835938 34.300781 25.5625 35.132812 27.582031 35.300781 C 27.90625 35.328125 27.9375 35.308594 28.007812 34.984375 C 28.382812 33.242188 27.625 30.925781 25.863281 28.425781 L 25.542969 27.96875 L 25.699219 27.785156 C 28.945312 23.960938 29.132812 18.699219 26.257812 11.96875 L 26.207031 11.84375 L 27.945312 12.703125 C 31.53125 14.476562 32.316406 14.800781 33.03125 14.800781 C 33.976562 14.800781 33.78125 13.9375 32.472656 12.292969 C 28.519531 7.355469 25.394531 5.925781 21.921875 7.472656 L 21.558594 7.636719 L 21.578125 7.542969 C 21.699219 6.992188 21.761719 5.742188 21.699219 5.164062 C 21.496094 3.296875 20.664062 1.964844 19.003906 0.855469 C 18.480469 0.503906 18.457031 0.5 18.214844 0.632812\"/>\n",
              "</g>\n",
              "      </svg>\n",
              "    "
            ],
            "text/plain": [
              "<IPython.core.display.HTML object>"
            ]
          },
          "metadata": {},
          "output_type": "display_data"
        }
      ],
      "source": [
        "from ColabTurtle.Turtle import *\n",
        "initializeTurtle()\n",
        "## Star\n",
        "angle = ??\n",
        "for i in range(?):\n",
        "    forward(200)\n",
        "    right(angle)"
      ]
    },
    {
      "cell_type": "markdown",
      "metadata": {
        "id": "7PvSeRbrAGhA"
      },
      "source": [
        "### 星の中にも星が"
      ]
    },
    {
      "cell_type": "code",
      "execution_count": null,
      "metadata": {
        "colab": {
          "base_uri": "https://localhost:8080/",
          "height": 521
        },
        "id": "90AA8jWVAaEw",
        "outputId": "d15e9e03-1147-4f91-e746-8397cebbd3ac"
      },
      "outputs": [
        {
          "data": {
            "text/html": [
              "\n",
              "      <svg width=\"800\" height=\"500\">\n",
              "        <rect width=\"100%\" height=\"100%\" fill=\"black\"/>\n",
              "        <line x1=\"400\" y1=\"250\" x2=\"400.0\" y2=\"50.0\" stroke-linecap=\"round\" style=\"stroke:white;stroke-width:4\"/><line x1=\"400.0\" y1=\"50.0\" x2=\"515.206\" y2=\"208.567\" stroke-linecap=\"round\" style=\"stroke:white;stroke-width:4\"/><line x1=\"515.206\" y1=\"208.567\" x2=\"332.603\" y2=\"149.236\" stroke-linecap=\"round\" style=\"stroke:white;stroke-width:4\"/><line x1=\"332.603\" y1=\"149.236\" x2=\"511.402\" y2=\"91.141\" stroke-linecap=\"round\" style=\"stroke:white;stroke-width:4\"/><line x1=\"511.402\" y1=\"91.141\" x2=\"403.25\" y2=\"240.0\" stroke-linecap=\"round\" style=\"stroke:white;stroke-width:4\"/><line x1=\"403.25\" y1=\"240.0\" x2=\"403.25\" y2=\"60.0\" stroke-linecap=\"round\" style=\"stroke:white;stroke-width:4\"/><line x1=\"403.25\" y1=\"60.0\" x2=\"506.7\" y2=\"202.387\" stroke-linecap=\"round\" style=\"stroke:white;stroke-width:4\"/><line x1=\"506.7\" y1=\"202.387\" x2=\"343.118\" y2=\"149.236\" stroke-linecap=\"round\" style=\"stroke:white;stroke-width:4\"/><line x1=\"343.118\" y1=\"149.236\" x2=\"502.895\" y2=\"97.321\" stroke-linecap=\"round\" style=\"stroke:white;stroke-width:4\"/><line x1=\"502.895\" y1=\"97.321\" x2=\"406.498\" y2=\"230.0\" stroke-linecap=\"round\" style=\"stroke:white;stroke-width:4\"/><line x1=\"406.498\" y1=\"230.0\" x2=\"406.498\" y2=\"70.0\" stroke-linecap=\"round\" style=\"stroke:white;stroke-width:4\"/><line x1=\"406.498\" y1=\"70.0\" x2=\"498.192\" y2=\"196.207\" stroke-linecap=\"round\" style=\"stroke:white;stroke-width:4\"/><line x1=\"498.192\" y1=\"196.207\" x2=\"353.631\" y2=\"149.236\" stroke-linecap=\"round\" style=\"stroke:white;stroke-width:4\"/><line x1=\"353.631\" y1=\"149.236\" x2=\"494.387\" y2=\"103.501\" stroke-linecap=\"round\" style=\"stroke:white;stroke-width:4\"/><line x1=\"494.387\" y1=\"103.501\" x2=\"409.746\" y2=\"219.999\" stroke-linecap=\"round\" style=\"stroke:white;stroke-width:4\"/><line x1=\"409.746\" y1=\"219.999\" x2=\"409.746\" y2=\"79.999\" stroke-linecap=\"round\" style=\"stroke:white;stroke-width:4\"/><line x1=\"409.746\" y1=\"79.999\" x2=\"489.685\" y2=\"190.025\" stroke-linecap=\"round\" style=\"stroke:white;stroke-width:4\"/><line x1=\"489.685\" y1=\"190.025\" x2=\"364.146\" y2=\"149.235\" stroke-linecap=\"round\" style=\"stroke:white;stroke-width:4\"/><line x1=\"364.146\" y1=\"149.235\" x2=\"485.881\" y2=\"109.681\" stroke-linecap=\"round\" style=\"stroke:white;stroke-width:4\"/><line x1=\"485.881\" y1=\"109.681\" x2=\"412.996\" y2=\"209.999\" stroke-linecap=\"round\" style=\"stroke:white;stroke-width:4\"/>\n",
              "        <g visibility=visible transform=\"rotate(360.0,412.996,209.999) translate(394.996, 191.999)\">\n",
              "<path style=\" stroke:none;fill-rule:evenodd;fill:white;fill-opacity:1;\" d=\"M 18.214844 0.632812 C 16.109375 1.800781 15.011719 4.074219 15.074219 7.132812 L 15.085938 7.652344 L 14.785156 7.496094 C 13.476562 6.824219 11.957031 6.671875 10.40625 7.066406 C 8.46875 7.550781 6.515625 9.15625 4.394531 11.992188 C 3.0625 13.777344 2.679688 14.636719 3.042969 15.027344 L 3.15625 15.152344 L 3.519531 15.152344 C 4.238281 15.152344 4.828125 14.886719 8.1875 13.039062 C 9.386719 12.378906 10.371094 11.839844 10.378906 11.839844 C 10.386719 11.839844 10.355469 11.929688 10.304688 12.035156 C 9.832031 13.09375 9.257812 14.820312 8.96875 16.078125 C 7.914062 20.652344 8.617188 24.53125 11.070312 27.660156 C 11.351562 28.015625 11.363281 27.914062 10.972656 28.382812 C 8.925781 30.84375 7.945312 33.28125 8.238281 35.1875 C 8.289062 35.527344 8.28125 35.523438 8.917969 35.523438 C 10.941406 35.523438 13.074219 34.207031 15.136719 31.6875 C 15.359375 31.417969 15.328125 31.425781 15.5625 31.574219 C 16.292969 32.042969 18.023438 32.964844 18.175781 32.964844 C 18.335938 32.964844 19.941406 32.210938 20.828125 31.71875 C 20.996094 31.625 21.136719 31.554688 21.136719 31.558594 C 21.203125 31.664062 21.898438 32.414062 22.222656 32.730469 C 23.835938 34.300781 25.5625 35.132812 27.582031 35.300781 C 27.90625 35.328125 27.9375 35.308594 28.007812 34.984375 C 28.382812 33.242188 27.625 30.925781 25.863281 28.425781 L 25.542969 27.96875 L 25.699219 27.785156 C 28.945312 23.960938 29.132812 18.699219 26.257812 11.96875 L 26.207031 11.84375 L 27.945312 12.703125 C 31.53125 14.476562 32.316406 14.800781 33.03125 14.800781 C 33.976562 14.800781 33.78125 13.9375 32.472656 12.292969 C 28.519531 7.355469 25.394531 5.925781 21.921875 7.472656 L 21.558594 7.636719 L 21.578125 7.542969 C 21.699219 6.992188 21.761719 5.742188 21.699219 5.164062 C 21.496094 3.296875 20.664062 1.964844 19.003906 0.855469 C 18.480469 0.503906 18.457031 0.5 18.214844 0.632812\"/>\n",
              "</g>\n",
              "      </svg>\n",
              "    "
            ],
            "text/plain": [
              "<IPython.core.display.HTML object>"
            ]
          },
          "metadata": {},
          "output_type": "display_data"
        }
      ],
      "source": [
        "from ColabTurtle.Turtle import *\n",
        "initializeTurtle()\n",
        "## Star2\n",
        "angle = ??\n",
        "for i in range(?):\n",
        "    forward(200-i*4)\n",
        "    right(angle)\n"
      ]
    },
    {
      "cell_type": "markdown",
      "metadata": {
        "id": "oTHBhIDw5n0P"
      },
      "source": [
        "### 回りながら三角形をくり返し描く"
      ]
    },
    {
      "cell_type": "code",
      "execution_count": null,
      "metadata": {
        "colab": {
          "base_uri": "https://localhost:8080/",
          "height": 521
        },
        "id": "WlXZgRq6r-p4",
        "outputId": "200cc4a2-19f9-4d8e-812b-c068dfe62b25"
      },
      "outputs": [
        {
          "data": {
            "text/html": [
              "\n",
              "      <svg width=\"800\" height=\"500\">\n",
              "        <rect width=\"100%\" height=\"100%\" fill=\"white\"/>\n",
              "        <line x1=\"400\" y1=\"250\" x2=\"400.0\" y2=\"50.0\" stroke-linecap=\"round\" style=\"stroke:orange;stroke-width:4\"/><line x1=\"400.0\" y1=\"50.0\" x2=\"528.558\" y2=\"203.209\" stroke-linecap=\"round\" style=\"stroke:orange;stroke-width:4\"/><line x1=\"528.558\" y1=\"203.209\" x2=\"331.596\" y2=\"168.479\" stroke-linecap=\"round\" style=\"stroke:orange;stroke-width:4\"/><line x1=\"331.596\" y1=\"168.479\" x2=\"504.801\" y2=\"68.479\" stroke-linecap=\"round\" style=\"stroke:orange;stroke-width:4\"/><line x1=\"504.801\" y1=\"68.479\" x2=\"436.397\" y2=\"256.418\" stroke-linecap=\"round\" style=\"stroke:orange;stroke-width:4\"/><line x1=\"436.397\" y1=\"256.418\" x2=\"367.993\" y2=\"68.479\" stroke-linecap=\"round\" style=\"stroke:orange;stroke-width:4\"/><line x1=\"367.993\" y1=\"68.479\" x2=\"541.198\" y2=\"168.479\" stroke-linecap=\"round\" style=\"stroke:orange;stroke-width:4\"/><line x1=\"541.198\" y1=\"168.479\" x2=\"344.236\" y2=\"203.209\" stroke-linecap=\"round\" style=\"stroke:orange;stroke-width:4\"/><line x1=\"344.236\" y1=\"203.209\" x2=\"472.794\" y2=\"50.0\" stroke-linecap=\"round\" style=\"stroke:orange;stroke-width:4\"/><line x1=\"472.794\" y1=\"50.0\" x2=\"472.794\" y2=\"250.0\" stroke-linecap=\"round\" style=\"stroke:orange;stroke-width:4\"/><line x1=\"472.794\" y1=\"250.0\" x2=\"344.236\" y2=\"96.791\" stroke-linecap=\"round\" style=\"stroke:orange;stroke-width:4\"/><line x1=\"344.236\" y1=\"96.791\" x2=\"541.198\" y2=\"131.521\" stroke-linecap=\"round\" style=\"stroke:orange;stroke-width:4\"/><line x1=\"541.198\" y1=\"131.521\" x2=\"367.993\" y2=\"231.521\" stroke-linecap=\"round\" style=\"stroke:orange;stroke-width:4\"/><line x1=\"367.993\" y1=\"231.521\" x2=\"436.397\" y2=\"43.582\" stroke-linecap=\"round\" style=\"stroke:orange;stroke-width:4\"/><line x1=\"436.397\" y1=\"43.582\" x2=\"504.801\" y2=\"231.521\" stroke-linecap=\"round\" style=\"stroke:orange;stroke-width:4\"/><line x1=\"504.801\" y1=\"231.521\" x2=\"331.596\" y2=\"131.521\" stroke-linecap=\"round\" style=\"stroke:orange;stroke-width:4\"/><line x1=\"331.596\" y1=\"131.521\" x2=\"528.558\" y2=\"96.791\" stroke-linecap=\"round\" style=\"stroke:orange;stroke-width:4\"/><line x1=\"528.558\" y1=\"96.791\" x2=\"400.0\" y2=\"250.0\" stroke-linecap=\"round\" style=\"stroke:orange;stroke-width:4\"/>\n",
              "        <g visibility=visible transform=\"rotate(360,400.0,250.0) translate(382.0, 232.0)\">\n",
              "<path style=\" stroke:none;fill-rule:evenodd;fill:orange;fill-opacity:1;\" d=\"M 18.214844 0.632812 C 16.109375 1.800781 15.011719 4.074219 15.074219 7.132812 L 15.085938 7.652344 L 14.785156 7.496094 C 13.476562 6.824219 11.957031 6.671875 10.40625 7.066406 C 8.46875 7.550781 6.515625 9.15625 4.394531 11.992188 C 3.0625 13.777344 2.679688 14.636719 3.042969 15.027344 L 3.15625 15.152344 L 3.519531 15.152344 C 4.238281 15.152344 4.828125 14.886719 8.1875 13.039062 C 9.386719 12.378906 10.371094 11.839844 10.378906 11.839844 C 10.386719 11.839844 10.355469 11.929688 10.304688 12.035156 C 9.832031 13.09375 9.257812 14.820312 8.96875 16.078125 C 7.914062 20.652344 8.617188 24.53125 11.070312 27.660156 C 11.351562 28.015625 11.363281 27.914062 10.972656 28.382812 C 8.925781 30.84375 7.945312 33.28125 8.238281 35.1875 C 8.289062 35.527344 8.28125 35.523438 8.917969 35.523438 C 10.941406 35.523438 13.074219 34.207031 15.136719 31.6875 C 15.359375 31.417969 15.328125 31.425781 15.5625 31.574219 C 16.292969 32.042969 18.023438 32.964844 18.175781 32.964844 C 18.335938 32.964844 19.941406 32.210938 20.828125 31.71875 C 20.996094 31.625 21.136719 31.554688 21.136719 31.558594 C 21.203125 31.664062 21.898438 32.414062 22.222656 32.730469 C 23.835938 34.300781 25.5625 35.132812 27.582031 35.300781 C 27.90625 35.328125 27.9375 35.308594 28.007812 34.984375 C 28.382812 33.242188 27.625 30.925781 25.863281 28.425781 L 25.542969 27.96875 L 25.699219 27.785156 C 28.945312 23.960938 29.132812 18.699219 26.257812 11.96875 L 26.207031 11.84375 L 27.945312 12.703125 C 31.53125 14.476562 32.316406 14.800781 33.03125 14.800781 C 33.976562 14.800781 33.78125 13.9375 32.472656 12.292969 C 28.519531 7.355469 25.394531 5.925781 21.921875 7.472656 L 21.558594 7.636719 L 21.578125 7.542969 C 21.699219 6.992188 21.761719 5.742188 21.699219 5.164062 C 21.496094 3.296875 20.664062 1.964844 19.003906 0.855469 C 18.480469 0.503906 18.457031 0.5 18.214844 0.632812\"/>\n",
              "</g>\n",
              "      </svg>\n",
              "    "
            ],
            "text/plain": [
              "<IPython.core.display.HTML object>"
            ]
          },
          "metadata": {},
          "output_type": "display_data"
        }
      ],
      "source": [
        "from ColabTurtle.Turtle import *\n",
        "initializeTurtle()\n",
        "color('orange')\n",
        "bgcolor('white')\n",
        "## Triangle\n",
        "angle = ??\n",
        "for i in range(?):\n",
        "    forward(200)\n",
        "    right(angle + ??)\n"
      ]
    },
    {
      "cell_type": "markdown",
      "metadata": {
        "id": "dL_BYDU-DBVp"
      },
      "source": [
        "### 流れ星"
      ]
    },
    {
      "cell_type": "code",
      "execution_count": null,
      "metadata": {
        "colab": {
          "base_uri": "https://localhost:8080/",
          "height": 521
        },
        "id": "gXBUp64NieAX",
        "outputId": "64f71083-56ba-499f-f592-8b83cca4d8e0"
      },
      "outputs": [
        {
          "data": {
            "text/html": [
              "\n",
              "      <svg width=\"800\" height=\"500\">\n",
              "        <rect width=\"100%\" height=\"100%\" fill=\"black\"/>\n",
              "        <line x1=\"400\" y1=\"250\" x2=\"400.0\" y2=\"150.0\" stroke-linecap=\"round\" style=\"stroke:skyblue;stroke-width:4\"/><line x1=\"400.0\" y1=\"150.0\" x2=\"458.779\" y2=\"230.902\" stroke-linecap=\"round\" style=\"stroke:skyblue;stroke-width:4\"/><line x1=\"458.779\" y1=\"230.902\" x2=\"363.673\" y2=\"200.0\" stroke-linecap=\"round\" style=\"stroke:skyblue;stroke-width:4\"/><line x1=\"363.673\" y1=\"200.0\" x2=\"458.779\" y2=\"169.098\" stroke-linecap=\"round\" style=\"stroke:skyblue;stroke-width:4\"/><line x1=\"458.779\" y1=\"169.098\" x2=\"400.0\" y2=\"250.0\" stroke-linecap=\"round\" style=\"stroke:skyblue;stroke-width:4\"/><line x1=\"480\" y1=\"150\" x2=\"497.659\" y2=\"140.611\" stroke-linecap=\"round\" style=\"stroke:skyblue;stroke-width:4\"/><line x1=\"497.659\" y1=\"140.611\" x2=\"515.635\" y2=\"131.844\" stroke-linecap=\"round\" style=\"stroke:skyblue;stroke-width:4\"/><line x1=\"515.635\" y1=\"131.844\" x2=\"533.906\" y2=\"123.709\" stroke-linecap=\"round\" style=\"stroke:skyblue;stroke-width:4\"/><line x1=\"533.906\" y1=\"123.709\" x2=\"552.45\" y2=\"116.217\" stroke-linecap=\"round\" style=\"stroke:skyblue;stroke-width:4\"/><line x1=\"552.45\" y1=\"116.217\" x2=\"571.244\" y2=\"109.377\" stroke-linecap=\"round\" style=\"stroke:skyblue;stroke-width:4\"/><line x1=\"571.244\" y1=\"109.377\" x2=\"590.265\" y2=\"103.197\" stroke-linecap=\"round\" style=\"stroke:skyblue;stroke-width:4\"/><line x1=\"590.265\" y1=\"103.197\" x2=\"609.49\" y2=\"97.684\" stroke-linecap=\"round\" style=\"stroke:skyblue;stroke-width:4\"/><line x1=\"609.49\" y1=\"97.684\" x2=\"628.896\" y2=\"92.846\" stroke-linecap=\"round\" style=\"stroke:skyblue;stroke-width:4\"/><line x1=\"628.896\" y1=\"92.846\" x2=\"648.459\" y2=\"88.688\" stroke-linecap=\"round\" style=\"stroke:skyblue;stroke-width:4\"/><line x1=\"648.459\" y1=\"88.688\" x2=\"668.155\" y2=\"85.215\" stroke-linecap=\"round\" style=\"stroke:skyblue;stroke-width:4\"/><line x1=\"490\" y1=\"160\" x2=\"509.225\" y2=\"154.487\" stroke-linecap=\"round\" style=\"stroke:skyblue;stroke-width:4\"/><line x1=\"509.225\" y1=\"154.487\" x2=\"528.631\" y2=\"149.649\" stroke-linecap=\"round\" style=\"stroke:skyblue;stroke-width:4\"/><line x1=\"528.631\" y1=\"149.649\" x2=\"548.194\" y2=\"145.491\" stroke-linecap=\"round\" style=\"stroke:skyblue;stroke-width:4\"/><line x1=\"548.194\" y1=\"145.491\" x2=\"567.89\" y2=\"142.018\" stroke-linecap=\"round\" style=\"stroke:skyblue;stroke-width:4\"/><line x1=\"567.89\" y1=\"142.018\" x2=\"587.695\" y2=\"139.235\" stroke-linecap=\"round\" style=\"stroke:skyblue;stroke-width:4\"/><line x1=\"587.695\" y1=\"139.235\" x2=\"607.585\" y2=\"137.144\" stroke-linecap=\"round\" style=\"stroke:skyblue;stroke-width:4\"/><line x1=\"607.585\" y1=\"137.144\" x2=\"627.536\" y2=\"135.749\" stroke-linecap=\"round\" style=\"stroke:skyblue;stroke-width:4\"/><line x1=\"627.536\" y1=\"135.749\" x2=\"647.524\" y2=\"135.051\" stroke-linecap=\"round\" style=\"stroke:skyblue;stroke-width:4\"/><line x1=\"647.524\" y1=\"135.051\" x2=\"667.524\" y2=\"135.051\" stroke-linecap=\"round\" style=\"stroke:skyblue;stroke-width:4\"/><line x1=\"667.524\" y1=\"135.051\" x2=\"687.512\" y2=\"135.749\" stroke-linecap=\"round\" style=\"stroke:skyblue;stroke-width:4\"/><line x1=\"500\" y1=\"170\" x2=\"519.951\" y2=\"168.605\" stroke-linecap=\"round\" style=\"stroke:skyblue;stroke-width:4\"/><line x1=\"519.951\" y1=\"168.605\" x2=\"539.939\" y2=\"167.907\" stroke-linecap=\"round\" style=\"stroke:skyblue;stroke-width:4\"/><line x1=\"539.939\" y1=\"167.907\" x2=\"559.939\" y2=\"167.907\" stroke-linecap=\"round\" style=\"stroke:skyblue;stroke-width:4\"/><line x1=\"559.939\" y1=\"167.907\" x2=\"579.927\" y2=\"168.605\" stroke-linecap=\"round\" style=\"stroke:skyblue;stroke-width:4\"/><line x1=\"579.927\" y1=\"168.605\" x2=\"599.878\" y2=\"170.0\" stroke-linecap=\"round\" style=\"stroke:skyblue;stroke-width:4\"/><line x1=\"599.878\" y1=\"170.0\" x2=\"619.768\" y2=\"172.091\" stroke-linecap=\"round\" style=\"stroke:skyblue;stroke-width:4\"/><line x1=\"619.768\" y1=\"172.091\" x2=\"639.573\" y2=\"174.874\" stroke-linecap=\"round\" style=\"stroke:skyblue;stroke-width:4\"/><line x1=\"639.573\" y1=\"174.874\" x2=\"659.269\" y2=\"178.347\" stroke-linecap=\"round\" style=\"stroke:skyblue;stroke-width:4\"/><line x1=\"659.269\" y1=\"178.347\" x2=\"678.832\" y2=\"182.505\" stroke-linecap=\"round\" style=\"stroke:skyblue;stroke-width:4\"/><line x1=\"678.832\" y1=\"182.505\" x2=\"698.238\" y2=\"187.343\" stroke-linecap=\"round\" style=\"stroke:skyblue;stroke-width:4\"/>\n",
              "        <g visibility=visible transform=\"rotate(360,400,250) translate(382, 232)\">\n",
              "<path style=\" stroke:none;fill-rule:evenodd;fill:skyblue;fill-opacity:1;\" d=\"M 18.214844 0.632812 C 16.109375 1.800781 15.011719 4.074219 15.074219 7.132812 L 15.085938 7.652344 L 14.785156 7.496094 C 13.476562 6.824219 11.957031 6.671875 10.40625 7.066406 C 8.46875 7.550781 6.515625 9.15625 4.394531 11.992188 C 3.0625 13.777344 2.679688 14.636719 3.042969 15.027344 L 3.15625 15.152344 L 3.519531 15.152344 C 4.238281 15.152344 4.828125 14.886719 8.1875 13.039062 C 9.386719 12.378906 10.371094 11.839844 10.378906 11.839844 C 10.386719 11.839844 10.355469 11.929688 10.304688 12.035156 C 9.832031 13.09375 9.257812 14.820312 8.96875 16.078125 C 7.914062 20.652344 8.617188 24.53125 11.070312 27.660156 C 11.351562 28.015625 11.363281 27.914062 10.972656 28.382812 C 8.925781 30.84375 7.945312 33.28125 8.238281 35.1875 C 8.289062 35.527344 8.28125 35.523438 8.917969 35.523438 C 10.941406 35.523438 13.074219 34.207031 15.136719 31.6875 C 15.359375 31.417969 15.328125 31.425781 15.5625 31.574219 C 16.292969 32.042969 18.023438 32.964844 18.175781 32.964844 C 18.335938 32.964844 19.941406 32.210938 20.828125 31.71875 C 20.996094 31.625 21.136719 31.554688 21.136719 31.558594 C 21.203125 31.664062 21.898438 32.414062 22.222656 32.730469 C 23.835938 34.300781 25.5625 35.132812 27.582031 35.300781 C 27.90625 35.328125 27.9375 35.308594 28.007812 34.984375 C 28.382812 33.242188 27.625 30.925781 25.863281 28.425781 L 25.542969 27.96875 L 25.699219 27.785156 C 28.945312 23.960938 29.132812 18.699219 26.257812 11.96875 L 26.207031 11.84375 L 27.945312 12.703125 C 31.53125 14.476562 32.316406 14.800781 33.03125 14.800781 C 33.976562 14.800781 33.78125 13.9375 32.472656 12.292969 C 28.519531 7.355469 25.394531 5.925781 21.921875 7.472656 L 21.558594 7.636719 L 21.578125 7.542969 C 21.699219 6.992188 21.761719 5.742188 21.699219 5.164062 C 21.496094 3.296875 20.664062 1.964844 19.003906 0.855469 C 18.480469 0.503906 18.457031 0.5 18.214844 0.632812\"/>\n",
              "</g>\n",
              "      </svg>\n",
              "    "
            ],
            "text/plain": [
              "<IPython.core.display.HTML object>"
            ]
          },
          "metadata": {},
          "output_type": "display_data"
        }
      ],
      "source": [
        "from ColabTurtle.Turtle import *\n",
        "initializeTurtle()\n",
        "# Shooting star\n",
        "color('skyblue')\n",
        "# まずは星を描きます．\n",
        "angle = ??\n",
        "for i in range(?):\n",
        "    forward(100)\n",
        "    right(angle)\n",
        "\n",
        "# 続いて流れ星のしっぽを３つ描きましょう．\n",
        "right(70)\n",
        "for i in range(3):\n",
        "    penup()\n",
        "    goto(480+i*10,150+i*10)\n",
        "    pendown()\n",
        "    left(8)\n",
        "    for i in range(10):\n",
        "        forward(20)\n",
        "        right(2)\n",
        "    penup()\n",
        "\n",
        "home()\n",
        "\n",
        "\n"
      ]
    },
    {
      "cell_type": "markdown",
      "metadata": {
        "id": "WifN3yB0x9P9"
      },
      "source": [
        "## 自分のイニシャルを亀さんに描かせてみてください．\n",
        "\n",
        "プログラムをはじめる前にご自身のイニシャルが画面上の座標でどうなるのか考えてください．\n",
        "\n",
        "その後，亀さんにどのように描かせるのか考えてください．"
      ]
    },
    {
      "cell_type": "code",
      "execution_count": null,
      "metadata": {
        "id": "cZLLaeH7yi1b"
      },
      "outputs": [],
      "source": []
    },
    {
      "cell_type": "markdown",
      "metadata": {
        "id": "7BlATV17FhPF"
      },
      "source": [
        "## 参考：ColabTurtleのデモ"
      ]
    },
    {
      "cell_type": "code",
      "execution_count": null,
      "metadata": {
        "colab": {
          "base_uri": "https://localhost:8080/",
          "height": 520
        },
        "id": "zi1jUS8NYw4R",
        "outputId": "c65f902f-cf6f-45ab-cfbb-f8956c26846a"
      },
      "outputs": [
        {
          "data": {
            "text/html": [
              "\n",
              "      <svg width=\"800\" height=\"500\">\n",
              "        <rect width=\"100%\" height=\"100%\" fill=\"#efefef\"/>\n",
              "        <line x1=\"100\" y1=\"250\" x2=\"100.0\" y2=\"150.0\" stroke-linecap=\"round\" style=\"stroke:mediumblue;stroke-width:4\"/><line x1=\"100.0\" y1=\"150.0\" x2=\"60.0\" y2=\"150.0\" stroke-linecap=\"round\" style=\"stroke:mediumblue;stroke-width:4\"/><line x1=\"60.0\" y1=\"150.0\" x2=\"140.0\" y2=\"150.0\" stroke-linecap=\"round\" style=\"stroke:mediumblue;stroke-width:4\"/><line x1=\"190.0\" y1=\"210.0\" x2=\"190.0\" y2=\"193.0\" stroke-linecap=\"round\" style=\"stroke:mediumblue;stroke-width:4\"/><line x1=\"190.0\" y1=\"193.0\" x2=\"195.814\" y2=\"177.025\" stroke-linecap=\"round\" style=\"stroke:mediumblue;stroke-width:4\"/><line x1=\"195.814\" y1=\"177.025\" x2=\"206.741\" y2=\"164.002\" stroke-linecap=\"round\" style=\"stroke:mediumblue;stroke-width:4\"/><line x1=\"206.741\" y1=\"164.002\" x2=\"221.463\" y2=\"155.502\" stroke-linecap=\"round\" style=\"stroke:mediumblue;stroke-width:4\"/><line x1=\"221.463\" y1=\"155.502\" x2=\"238.205\" y2=\"152.55\" stroke-linecap=\"round\" style=\"stroke:mediumblue;stroke-width:4\"/><line x1=\"238.205\" y1=\"152.55\" x2=\"254.947\" y2=\"155.502\" stroke-linecap=\"round\" style=\"stroke:mediumblue;stroke-width:4\"/><line x1=\"254.947\" y1=\"155.502\" x2=\"269.669\" y2=\"164.002\" stroke-linecap=\"round\" style=\"stroke:mediumblue;stroke-width:4\"/><line x1=\"269.669\" y1=\"164.002\" x2=\"280.596\" y2=\"177.025\" stroke-linecap=\"round\" style=\"stroke:mediumblue;stroke-width:4\"/><line x1=\"280.596\" y1=\"177.025\" x2=\"286.41\" y2=\"193.0\" stroke-linecap=\"round\" style=\"stroke:mediumblue;stroke-width:4\"/><line x1=\"286.41\" y1=\"193.0\" x2=\"286.41\" y2=\"210.0\" stroke-linecap=\"round\" style=\"stroke:mediumblue;stroke-width:4\"/><line x1=\"286.41\" y1=\"210.0\" x2=\"280.596\" y2=\"225.975\" stroke-linecap=\"round\" style=\"stroke:mediumblue;stroke-width:4\"/><line x1=\"280.596\" y1=\"225.975\" x2=\"269.669\" y2=\"238.998\" stroke-linecap=\"round\" style=\"stroke:mediumblue;stroke-width:4\"/><line x1=\"269.669\" y1=\"238.998\" x2=\"254.947\" y2=\"247.498\" stroke-linecap=\"round\" style=\"stroke:mediumblue;stroke-width:4\"/><line x1=\"254.947\" y1=\"247.498\" x2=\"238.205\" y2=\"250.45\" stroke-linecap=\"round\" style=\"stroke:mediumblue;stroke-width:4\"/><line x1=\"238.205\" y1=\"250.45\" x2=\"221.463\" y2=\"247.498\" stroke-linecap=\"round\" style=\"stroke:mediumblue;stroke-width:4\"/><line x1=\"221.463\" y1=\"247.498\" x2=\"206.741\" y2=\"238.998\" stroke-linecap=\"round\" style=\"stroke:mediumblue;stroke-width:4\"/><line x1=\"206.741\" y1=\"238.998\" x2=\"195.814\" y2=\"225.975\" stroke-linecap=\"round\" style=\"stroke:mediumblue;stroke-width:4\"/><line x1=\"195.814\" y1=\"225.975\" x2=\"190.0\" y2=\"210.0\" stroke-linecap=\"round\" style=\"stroke:mediumblue;stroke-width:4\"/><line x1=\"350.0\" y1=\"150.0\" x2=\"350.0\" y2=\"250.0\" stroke-linecap=\"round\" style=\"stroke:rgb(230,90,120);stroke-width:4\"/><line x1=\"350.0\" y1=\"250.0\" x2=\"430.0\" y2=\"250.0\" stroke-linecap=\"round\" style=\"stroke:rgb(230,90,120);stroke-width:4\"/><line x1=\"480.0\" y1=\"210.0\" x2=\"480.0\" y2=\"193.0\" stroke-linecap=\"round\" style=\"stroke:rgb(230,90,120);stroke-width:4\"/><line x1=\"480.0\" y1=\"193.0\" x2=\"485.814\" y2=\"177.025\" stroke-linecap=\"round\" style=\"stroke:rgb(230,90,120);stroke-width:4\"/><line x1=\"485.814\" y1=\"177.025\" x2=\"496.741\" y2=\"164.002\" stroke-linecap=\"round\" style=\"stroke:rgb(230,90,120);stroke-width:4\"/><line x1=\"496.741\" y1=\"164.002\" x2=\"511.463\" y2=\"155.502\" stroke-linecap=\"round\" style=\"stroke:rgb(230,90,120);stroke-width:4\"/><line x1=\"511.463\" y1=\"155.502\" x2=\"528.205\" y2=\"152.55\" stroke-linecap=\"round\" style=\"stroke:rgb(230,90,120);stroke-width:4\"/><line x1=\"528.205\" y1=\"152.55\" x2=\"511.463\" y2=\"155.502\" stroke-linecap=\"round\" style=\"stroke:rgb(230,90,120);stroke-width:4\"/><line x1=\"511.463\" y1=\"155.502\" x2=\"496.741\" y2=\"164.002\" stroke-linecap=\"round\" style=\"stroke:rgb(230,90,120);stroke-width:4\"/><line x1=\"496.741\" y1=\"164.002\" x2=\"485.814\" y2=\"177.025\" stroke-linecap=\"round\" style=\"stroke:rgb(230,90,120);stroke-width:4\"/><line x1=\"485.814\" y1=\"177.025\" x2=\"480.0\" y2=\"193.0\" stroke-linecap=\"round\" style=\"stroke:rgb(230,90,120);stroke-width:4\"/><line x1=\"480.0\" y1=\"193.0\" x2=\"480.0\" y2=\"210.0\" stroke-linecap=\"round\" style=\"stroke:rgb(230,90,120);stroke-width:4\"/><line x1=\"480.0\" y1=\"210.0\" x2=\"485.814\" y2=\"225.975\" stroke-linecap=\"round\" style=\"stroke:rgb(230,90,120);stroke-width:4\"/><line x1=\"485.814\" y1=\"225.975\" x2=\"496.741\" y2=\"238.998\" stroke-linecap=\"round\" style=\"stroke:rgb(230,90,120);stroke-width:4\"/><line x1=\"496.741\" y1=\"238.998\" x2=\"511.463\" y2=\"247.498\" stroke-linecap=\"round\" style=\"stroke:rgb(230,90,120);stroke-width:4\"/><line x1=\"511.463\" y1=\"247.498\" x2=\"528.205\" y2=\"250.45\" stroke-linecap=\"round\" style=\"stroke:rgb(230,90,120);stroke-width:4\"/><line x1=\"528.205\" y1=\"250.45\" x2=\"544.947\" y2=\"247.498\" stroke-linecap=\"round\" style=\"stroke:rgb(230,90,120);stroke-width:4\"/><line x1=\"544.947\" y1=\"247.498\" x2=\"559.669\" y2=\"238.998\" stroke-linecap=\"round\" style=\"stroke:rgb(230,90,120);stroke-width:4\"/><line x1=\"559.669\" y1=\"238.998\" x2=\"570.596\" y2=\"225.975\" stroke-linecap=\"round\" style=\"stroke:rgb(230,90,120);stroke-width:4\"/><line x1=\"570.596\" y1=\"225.975\" x2=\"576.41\" y2=\"210.0\" stroke-linecap=\"round\" style=\"stroke:rgb(230,90,120);stroke-width:4\"/><line x1=\"576.41\" y1=\"210.0\" x2=\"526.41\" y2=\"210.0\" stroke-linecap=\"round\" style=\"stroke:rgb(230,90,120);stroke-width:4\"/><line x1=\"626.41\" y1=\"250.0\" x2=\"670.785\" y2=\"154.838\" stroke-linecap=\"round\" style=\"stroke:rgb(230,90,120);stroke-width:4\"/><line x1=\"670.785\" y1=\"154.838\" x2=\"715.16\" y2=\"250.0\" stroke-linecap=\"round\" style=\"stroke:rgb(230,90,120);stroke-width:4\"/><line x1=\"715.16\" y1=\"250.0\" x2=\"696.142\" y2=\"209.216\" stroke-linecap=\"round\" style=\"stroke:rgb(230,90,120);stroke-width:4\"/><line x1=\"696.142\" y1=\"209.216\" x2=\"646.142\" y2=\"209.216\" stroke-linecap=\"round\" style=\"stroke:rgb(230,90,120);stroke-width:4\"/><line x1=\"716.142\" y1=\"309.216\" x2=\"66.142\" y2=\"309.216\" stroke-linecap=\"round\" style=\"stroke:black;stroke-width:7\"/><line x1=\"66.142\" y1=\"309.216\" x2=\"73.142\" y2=\"309.216\" stroke-linecap=\"round\" style=\"stroke:black;stroke-width:7\"/><line x1=\"73.142\" y1=\"309.216\" x2=\"80.142\" y2=\"309.24\" stroke-linecap=\"round\" style=\"stroke:black;stroke-width:7\"/><line x1=\"80.142\" y1=\"309.24\" x2=\"87.142\" y2=\"309.289\" stroke-linecap=\"round\" style=\"stroke:black;stroke-width:7\"/><line x1=\"87.142\" y1=\"309.289\" x2=\"94.142\" y2=\"309.362\" stroke-linecap=\"round\" style=\"stroke:black;stroke-width:7\"/><line x1=\"94.142\" y1=\"309.362\" x2=\"101.141\" y2=\"309.46\" stroke-linecap=\"round\" style=\"stroke:black;stroke-width:7\"/><line x1=\"101.141\" y1=\"309.46\" x2=\"108.14\" y2=\"309.582\" stroke-linecap=\"round\" style=\"stroke:black;stroke-width:7\"/><line x1=\"108.14\" y1=\"309.582\" x2=\"115.138\" y2=\"309.729\" stroke-linecap=\"round\" style=\"stroke:black;stroke-width:7\"/><line x1=\"115.138\" y1=\"309.729\" x2=\"122.136\" y2=\"309.9\" stroke-linecap=\"round\" style=\"stroke:black;stroke-width:7\"/><line x1=\"122.136\" y1=\"309.9\" x2=\"129.133\" y2=\"310.095\" stroke-linecap=\"round\" style=\"stroke:black;stroke-width:7\"/><line x1=\"129.133\" y1=\"310.095\" x2=\"136.13\" y2=\"310.315\" stroke-linecap=\"round\" style=\"stroke:black;stroke-width:7\"/><line x1=\"136.13\" y1=\"310.315\" x2=\"143.126\" y2=\"310.559\" stroke-linecap=\"round\" style=\"stroke:black;stroke-width:7\"/><line x1=\"143.126\" y1=\"310.559\" x2=\"150.121\" y2=\"310.828\" stroke-linecap=\"round\" style=\"stroke:black;stroke-width:7\"/><line x1=\"150.121\" y1=\"310.828\" x2=\"157.115\" y2=\"311.121\" stroke-linecap=\"round\" style=\"stroke:black;stroke-width:7\"/><line x1=\"157.115\" y1=\"311.121\" x2=\"164.108\" y2=\"311.439\" stroke-linecap=\"round\" style=\"stroke:black;stroke-width:7\"/><line x1=\"164.108\" y1=\"311.439\" x2=\"171.1\" y2=\"311.781\" stroke-linecap=\"round\" style=\"stroke:black;stroke-width:7\"/><line x1=\"171.1\" y1=\"311.781\" x2=\"178.09\" y2=\"312.147\" stroke-linecap=\"round\" style=\"stroke:black;stroke-width:7\"/><line x1=\"178.09\" y1=\"312.147\" x2=\"185.079\" y2=\"312.538\" stroke-linecap=\"round\" style=\"stroke:black;stroke-width:7\"/><line x1=\"185.079\" y1=\"312.538\" x2=\"192.067\" y2=\"312.953\" stroke-linecap=\"round\" style=\"stroke:black;stroke-width:7\"/><line x1=\"192.067\" y1=\"312.953\" x2=\"199.053\" y2=\"313.393\" stroke-linecap=\"round\" style=\"stroke:black;stroke-width:7\"/><line x1=\"199.053\" y1=\"313.393\" x2=\"206.038\" y2=\"313.857\" stroke-linecap=\"round\" style=\"stroke:black;stroke-width:7\"/><line x1=\"206.038\" y1=\"313.857\" x2=\"213.021\" y2=\"314.345\" stroke-linecap=\"round\" style=\"stroke:black;stroke-width:7\"/><line x1=\"213.021\" y1=\"314.345\" x2=\"220.002\" y2=\"314.858\" stroke-linecap=\"round\" style=\"stroke:black;stroke-width:7\"/><line x1=\"220.002\" y1=\"314.858\" x2=\"226.981\" y2=\"315.395\" stroke-linecap=\"round\" style=\"stroke:black;stroke-width:7\"/><line x1=\"226.981\" y1=\"315.395\" x2=\"233.958\" y2=\"315.956\" stroke-linecap=\"round\" style=\"stroke:black;stroke-width:7\"/><line x1=\"233.958\" y1=\"315.956\" x2=\"240.933\" y2=\"316.542\" stroke-linecap=\"round\" style=\"stroke:black;stroke-width:7\"/><line x1=\"240.933\" y1=\"316.542\" x2=\"247.906\" y2=\"317.152\" stroke-linecap=\"round\" style=\"stroke:black;stroke-width:7\"/><line x1=\"247.906\" y1=\"317.152\" x2=\"254.877\" y2=\"317.786\" stroke-linecap=\"round\" style=\"stroke:black;stroke-width:7\"/><line x1=\"254.877\" y1=\"317.786\" x2=\"261.846\" y2=\"318.445\" stroke-linecap=\"round\" style=\"stroke:black;stroke-width:7\"/><line x1=\"261.846\" y1=\"318.445\" x2=\"268.813\" y2=\"319.128\" stroke-linecap=\"round\" style=\"stroke:black;stroke-width:7\"/><line x1=\"268.813\" y1=\"319.128\" x2=\"275.777\" y2=\"319.835\" stroke-linecap=\"round\" style=\"stroke:black;stroke-width:7\"/><line x1=\"275.777\" y1=\"319.835\" x2=\"282.739\" y2=\"320.567\" stroke-linecap=\"round\" style=\"stroke:black;stroke-width:7\"/><line x1=\"282.739\" y1=\"320.567\" x2=\"289.698\" y2=\"321.323\" stroke-linecap=\"round\" style=\"stroke:black;stroke-width:7\"/><line x1=\"289.698\" y1=\"321.323\" x2=\"296.654\" y2=\"322.103\" stroke-linecap=\"round\" style=\"stroke:black;stroke-width:7\"/><line x1=\"296.654\" y1=\"322.103\" x2=\"303.608\" y2=\"322.908\" stroke-linecap=\"round\" style=\"stroke:black;stroke-width:7\"/><line x1=\"303.608\" y1=\"322.908\" x2=\"310.559\" y2=\"323.737\" stroke-linecap=\"round\" style=\"stroke:black;stroke-width:7\"/><line x1=\"310.559\" y1=\"323.737\" x2=\"317.507\" y2=\"324.59\" stroke-linecap=\"round\" style=\"stroke:black;stroke-width:7\"/><line x1=\"317.507\" y1=\"324.59\" x2=\"324.452\" y2=\"325.467\" stroke-linecap=\"round\" style=\"stroke:black;stroke-width:7\"/><line x1=\"324.452\" y1=\"325.467\" x2=\"331.394\" y2=\"326.369\" stroke-linecap=\"round\" style=\"stroke:black;stroke-width:7\"/><line x1=\"331.394\" y1=\"326.369\" x2=\"338.333\" y2=\"327.295\" stroke-linecap=\"round\" style=\"stroke:black;stroke-width:7\"/><line x1=\"338.333\" y1=\"327.295\" x2=\"345.268\" y2=\"328.245\" stroke-linecap=\"round\" style=\"stroke:black;stroke-width:7\"/><line x1=\"345.268\" y1=\"328.245\" x2=\"352.2\" y2=\"329.219\" stroke-linecap=\"round\" style=\"stroke:black;stroke-width:7\"/><line x1=\"352.2\" y1=\"329.219\" x2=\"359.128\" y2=\"330.217\" stroke-linecap=\"round\" style=\"stroke:black;stroke-width:7\"/><line x1=\"359.128\" y1=\"330.217\" x2=\"366.053\" y2=\"331.24\" stroke-linecap=\"round\" style=\"stroke:black;stroke-width:7\"/><line x1=\"366.053\" y1=\"331.24\" x2=\"372.974\" y2=\"332.287\" stroke-linecap=\"round\" style=\"stroke:black;stroke-width:7\"/><line x1=\"372.974\" y1=\"332.287\" x2=\"379.892\" y2=\"333.358\" stroke-linecap=\"round\" style=\"stroke:black;stroke-width:7\"/><line x1=\"379.892\" y1=\"333.358\" x2=\"386.806\" y2=\"334.453\" stroke-linecap=\"round\" style=\"stroke:black;stroke-width:7\"/><line x1=\"386.806\" y1=\"334.453\" x2=\"393.716\" y2=\"335.572\" stroke-linecap=\"round\" style=\"stroke:black;stroke-width:7\"/><line x1=\"393.716\" y1=\"335.572\" x2=\"400.622\" y2=\"336.715\" stroke-linecap=\"round\" style=\"stroke:black;stroke-width:7\"/><line x1=\"400.622\" y1=\"336.715\" x2=\"407.524\" y2=\"337.882\" stroke-linecap=\"round\" style=\"stroke:black;stroke-width:7\"/><line x1=\"407.524\" y1=\"337.882\" x2=\"414.422\" y2=\"339.073\" stroke-linecap=\"round\" style=\"stroke:black;stroke-width:7\"/><line x1=\"414.422\" y1=\"339.073\" x2=\"421.316\" y2=\"340.289\" stroke-linecap=\"round\" style=\"stroke:black;stroke-width:7\"/><line x1=\"421.316\" y1=\"340.289\" x2=\"428.205\" y2=\"341.529\" stroke-linecap=\"round\" style=\"stroke:black;stroke-width:7\"/><line x1=\"428.205\" y1=\"341.529\" x2=\"435.09\" y2=\"342.793\" stroke-linecap=\"round\" style=\"stroke:black;stroke-width:7\"/><line x1=\"435.09\" y1=\"342.793\" x2=\"441.971\" y2=\"344.081\" stroke-linecap=\"round\" style=\"stroke:black;stroke-width:7\"/><line x1=\"441.971\" y1=\"344.081\" x2=\"448.847\" y2=\"345.393\" stroke-linecap=\"round\" style=\"stroke:black;stroke-width:7\"/><line x1=\"448.847\" y1=\"345.393\" x2=\"455.718\" y2=\"346.729\" stroke-linecap=\"round\" style=\"stroke:black;stroke-width:7\"/><line x1=\"455.718\" y1=\"346.729\" x2=\"462.585\" y2=\"348.089\" stroke-linecap=\"round\" style=\"stroke:black;stroke-width:7\"/><line x1=\"462.585\" y1=\"348.089\" x2=\"469.447\" y2=\"349.473\" stroke-linecap=\"round\" style=\"stroke:black;stroke-width:7\"/><line x1=\"469.447\" y1=\"349.473\" x2=\"476.304\" y2=\"350.881\" stroke-linecap=\"round\" style=\"stroke:black;stroke-width:7\"/><line x1=\"476.304\" y1=\"350.881\" x2=\"483.156\" y2=\"352.312\" stroke-linecap=\"round\" style=\"stroke:black;stroke-width:7\"/><line x1=\"483.156\" y1=\"352.312\" x2=\"490.003\" y2=\"353.767\" stroke-linecap=\"round\" style=\"stroke:black;stroke-width:7\"/><line x1=\"490.003\" y1=\"353.767\" x2=\"496.845\" y2=\"355.246\" stroke-linecap=\"round\" style=\"stroke:black;stroke-width:7\"/><line x1=\"496.845\" y1=\"355.246\" x2=\"503.682\" y2=\"356.749\" stroke-linecap=\"round\" style=\"stroke:black;stroke-width:7\"/><line x1=\"503.682\" y1=\"356.749\" x2=\"510.513\" y2=\"358.276\" stroke-linecap=\"round\" style=\"stroke:black;stroke-width:7\"/><line x1=\"510.513\" y1=\"358.276\" x2=\"517.339\" y2=\"359.827\" stroke-linecap=\"round\" style=\"stroke:black;stroke-width:7\"/><line x1=\"517.339\" y1=\"359.827\" x2=\"524.16\" y2=\"361.402\" stroke-linecap=\"round\" style=\"stroke:black;stroke-width:7\"/><line x1=\"524.16\" y1=\"361.402\" x2=\"530.975\" y2=\"363.0\" stroke-linecap=\"round\" style=\"stroke:black;stroke-width:7\"/><line x1=\"530.975\" y1=\"363.0\" x2=\"537.784\" y2=\"364.622\" stroke-linecap=\"round\" style=\"stroke:black;stroke-width:7\"/><line x1=\"537.784\" y1=\"364.622\" x2=\"544.588\" y2=\"366.268\" stroke-linecap=\"round\" style=\"stroke:black;stroke-width:7\"/><line x1=\"544.588\" y1=\"366.268\" x2=\"551.386\" y2=\"367.938\" stroke-linecap=\"round\" style=\"stroke:black;stroke-width:7\"/><line x1=\"551.386\" y1=\"367.938\" x2=\"558.178\" y2=\"369.631\" stroke-linecap=\"round\" style=\"stroke:black;stroke-width:7\"/><line x1=\"558.178\" y1=\"369.631\" x2=\"564.964\" y2=\"371.348\" stroke-linecap=\"round\" style=\"stroke:black;stroke-width:7\"/><line x1=\"564.964\" y1=\"371.348\" x2=\"571.744\" y2=\"373.089\" stroke-linecap=\"round\" style=\"stroke:black;stroke-width:7\"/><line x1=\"571.744\" y1=\"373.089\" x2=\"578.518\" y2=\"374.853\" stroke-linecap=\"round\" style=\"stroke:black;stroke-width:7\"/><line x1=\"578.518\" y1=\"374.853\" x2=\"585.286\" y2=\"376.641\" stroke-linecap=\"round\" style=\"stroke:black;stroke-width:7\"/><line x1=\"585.286\" y1=\"376.641\" x2=\"592.047\" y2=\"378.453\" stroke-linecap=\"round\" style=\"stroke:black;stroke-width:7\"/><line x1=\"592.047\" y1=\"378.453\" x2=\"598.802\" y2=\"380.288\" stroke-linecap=\"round\" style=\"stroke:black;stroke-width:7\"/><line x1=\"598.802\" y1=\"380.288\" x2=\"605.551\" y2=\"382.147\" stroke-linecap=\"round\" style=\"stroke:black;stroke-width:7\"/><line x1=\"605.551\" y1=\"382.147\" x2=\"612.293\" y2=\"384.029\" stroke-linecap=\"round\" style=\"stroke:black;stroke-width:7\"/><line x1=\"612.293\" y1=\"384.029\" x2=\"619.029\" y2=\"385.935\" stroke-linecap=\"round\" style=\"stroke:black;stroke-width:7\"/><line x1=\"619.029\" y1=\"385.935\" x2=\"625.758\" y2=\"387.864\" stroke-linecap=\"round\" style=\"stroke:black;stroke-width:7\"/><line x1=\"625.758\" y1=\"387.864\" x2=\"632.48\" y2=\"389.817\" stroke-linecap=\"round\" style=\"stroke:black;stroke-width:7\"/><line x1=\"632.48\" y1=\"389.817\" x2=\"639.195\" y2=\"391.793\" stroke-linecap=\"round\" style=\"stroke:black;stroke-width:7\"/><line x1=\"639.195\" y1=\"391.793\" x2=\"645.903\" y2=\"393.793\" stroke-linecap=\"round\" style=\"stroke:black;stroke-width:7\"/><line x1=\"645.903\" y1=\"393.793\" x2=\"652.604\" y2=\"395.816\" stroke-linecap=\"round\" style=\"stroke:black;stroke-width:7\"/><line x1=\"652.604\" y1=\"395.816\" x2=\"659.298\" y2=\"397.863\" stroke-linecap=\"round\" style=\"stroke:black;stroke-width:7\"/><line x1=\"659.298\" y1=\"397.863\" x2=\"665.985\" y2=\"399.933\" stroke-linecap=\"round\" style=\"stroke:black;stroke-width:7\"/><line x1=\"665.985\" y1=\"399.933\" x2=\"672.665\" y2=\"402.026\" stroke-linecap=\"round\" style=\"stroke:black;stroke-width:7\"/><line x1=\"672.665\" y1=\"402.026\" x2=\"679.337\" y2=\"404.143\" stroke-linecap=\"round\" style=\"stroke:black;stroke-width:7\"/><line x1=\"679.337\" y1=\"404.143\" x2=\"686.002\" y2=\"406.283\" stroke-linecap=\"round\" style=\"stroke:black;stroke-width:7\"/><text x=\"386.002\" y=\"406.283\" fill=\"black\" text-anchor=\"middle\" style=\"font-size:25px;font-family:'Arial';font-style:italic;\">ColabTurtle</text>\n",
              "        <g visibility=visible transform=\"rotate(360,386.002,446.283) translate(368.002, 428.283)\">\n",
              "<path style=\" stroke:none;fill-rule:evenodd;fill:rgb(70 110 70);fill-opacity:1;\" d=\"M 18.214844 0.632812 C 16.109375 1.800781 15.011719 4.074219 15.074219 7.132812 L 15.085938 7.652344 L 14.785156 7.496094 C 13.476562 6.824219 11.957031 6.671875 10.40625 7.066406 C 8.46875 7.550781 6.515625 9.15625 4.394531 11.992188 C 3.0625 13.777344 2.679688 14.636719 3.042969 15.027344 L 3.15625 15.152344 L 3.519531 15.152344 C 4.238281 15.152344 4.828125 14.886719 8.1875 13.039062 C 9.386719 12.378906 10.371094 11.839844 10.378906 11.839844 C 10.386719 11.839844 10.355469 11.929688 10.304688 12.035156 C 9.832031 13.09375 9.257812 14.820312 8.96875 16.078125 C 7.914062 20.652344 8.617188 24.53125 11.070312 27.660156 C 11.351562 28.015625 11.363281 27.914062 10.972656 28.382812 C 8.925781 30.84375 7.945312 33.28125 8.238281 35.1875 C 8.289062 35.527344 8.28125 35.523438 8.917969 35.523438 C 10.941406 35.523438 13.074219 34.207031 15.136719 31.6875 C 15.359375 31.417969 15.328125 31.425781 15.5625 31.574219 C 16.292969 32.042969 18.023438 32.964844 18.175781 32.964844 C 18.335938 32.964844 19.941406 32.210938 20.828125 31.71875 C 20.996094 31.625 21.136719 31.554688 21.136719 31.558594 C 21.203125 31.664062 21.898438 32.414062 22.222656 32.730469 C 23.835938 34.300781 25.5625 35.132812 27.582031 35.300781 C 27.90625 35.328125 27.9375 35.308594 28.007812 34.984375 C 28.382812 33.242188 27.625 30.925781 25.863281 28.425781 L 25.542969 27.96875 L 25.699219 27.785156 C 28.945312 23.960938 29.132812 18.699219 26.257812 11.96875 L 26.207031 11.84375 L 27.945312 12.703125 C 31.53125 14.476562 32.316406 14.800781 33.03125 14.800781 C 33.976562 14.800781 33.78125 13.9375 32.472656 12.292969 C 28.519531 7.355469 25.394531 5.925781 21.921875 7.472656 L 21.558594 7.636719 L 21.578125 7.542969 C 21.699219 6.992188 21.761719 5.742188 21.699219 5.164062 C 21.496094 3.296875 20.664062 1.964844 19.003906 0.855469 C 18.480469 0.503906 18.457031 0.5 18.214844 0.632812\"/>\n",
              "</g>\n",
              "      </svg>\n",
              "    "
            ],
            "text/plain": [
              "<IPython.core.display.HTML object>"
            ]
          },
          "metadata": {},
          "output_type": "display_data"
        }
      ],
      "source": [
        "from ColabTurtle.Turtle import *\n",
        "initializeTurtle()\n",
        "\n",
        "color('mediumblue')\n",
        "penup()\n",
        "goto(100, 250)\n",
        "pendown()\n",
        "forward(100)\n",
        "left(90)\n",
        "forward(40)\n",
        "right(180)\n",
        "forward(80)\n",
        "penup()\n",
        "right(90)\n",
        "forward(50)\n",
        "left(90)\n",
        "forward(50)\n",
        "left(90)\n",
        "backward(10)\n",
        "pendown()\n",
        "speed(10)\n",
        "for i in range(18):\n",
        "    forward(17)\n",
        "    right(20)\n",
        "penup()\n",
        "shape('circle')\n",
        "color(230, 90, 120)\n",
        "speed(7)\n",
        "right(90)\n",
        "forward(160)\n",
        "left(90)\n",
        "forward(60)\n",
        "right(180)\n",
        "pendown()\n",
        "forward(100)\n",
        "left(90)\n",
        "forward(80)\n",
        "penup()\n",
        "shape('turtle')\n",
        "forward(50)\n",
        "left(90)\n",
        "forward(40)\n",
        "pendown()\n",
        "for i in range(5):\n",
        "    forward(17)\n",
        "    right(20)\n",
        "left(200)\n",
        "for i in range(13):\n",
        "    forward(17)\n",
        "    left(20)\n",
        "left(90)\n",
        "forward(50)\n",
        "penup()\n",
        "backward(100)\n",
        "left(90)\n",
        "forward(40)\n",
        "pendown()\n",
        "left(155)\n",
        "forward(105)\n",
        "right(130)\n",
        "forward(105)\n",
        "backward(45)\n",
        "right(115)\n",
        "forward(50)\n",
        "bgcolor(\"#efefef\")\n",
        "penup()\n",
        "backward(70)\n",
        "left(90)\n",
        "forward(100)\n",
        "right(90)\n",
        "pencolor('black')\n",
        "pensize(7)\n",
        "pendown()\n",
        "forward(650)\n",
        "left(180)\n",
        "speed(12)\n",
        "for i in range(90):\n",
        "    forward(7)\n",
        "    right(0.2)\n",
        "speed(2)\n",
        "left(18+180)\n",
        "penup()\n",
        "forward(300)\n",
        "setheading(270)\n",
        "write(\"ColabTurtle\", align=\"center\", font=(25, \"Arial\", \"italic\"))\n",
        "color('rgb(70 110 70)')\n",
        "backward(40)"
      ]
    }
  ],
  "metadata": {
    "colab": {
      "collapsed_sections": [
        "_Y8e_BeR8kE0"
      ],
      "provenance": []
    },
    "gpuClass": "standard",
    "kernelspec": {
      "display_name": "Python 3",
      "name": "python3"
    },
    "language_info": {
      "name": "python"
    }
  },
  "nbformat": 4,
  "nbformat_minor": 0
}
